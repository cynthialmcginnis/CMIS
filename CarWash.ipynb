{
  "nbformat": 4,
  "nbformat_minor": 0,
  "metadata": {
    "colab": {
      "provenance": [],
      "authorship_tag": "ABX9TyNB0TMVS50dLRI3XlVLZ0Y2",
      "include_colab_link": true
    },
    "kernelspec": {
      "name": "python3",
      "display_name": "Python 3"
    },
    "language_info": {
      "name": "python"
    }
  },
  "cells": [
    {
      "cell_type": "markdown",
      "metadata": {
        "id": "view-in-github",
        "colab_type": "text"
      },
      "source": [
        "<a href=\"https://colab.research.google.com/github/cynthialmcginnis/CMIS/blob/main/CarWash.ipynb\" target=\"_parent\"><img src=\"https://colab.research.google.com/assets/colab-badge.svg\" alt=\"Open In Colab\"/></a>"
      ]
    },
    {
      "cell_type": "markdown",
      "source": [
        "This program computes the cost of a car wash the user will input the \n",
        "   \n",
        "\n",
        "*   type of cleaning: undercarriage, tyre and wheel and spray on wax\n",
        "*   size of car\n",
        "\n"
      ],
      "metadata": {
        "id": "bwC9NRHt6b3H"
      }
    },
    {
      "cell_type": "code",
      "source": [
        "#Promt for size of car\n",
        "type = False\n",
        "while type == False:\n",
        "    print(\"What is the size of your car?\\n\") #\\n new line\n",
        "    sizeCar = input(\"For compact car enter C, for midsize enter M, for an SUV type S\\t\") #\\t is a tab\n",
        "    if sizeCar == \"C\" or sizeCar == \"M\" or sizeCar == \"S\": type = True\n",
        "    else: print(\"You entered an invalid type.  Please try again\")\n"
      ],
      "metadata": {
        "colab": {
          "base_uri": "https://localhost:8080/"
        },
        "id": "VV5tNcbi6x4d",
        "outputId": "e77ad758-2bc4-4fcb-db1a-189d794feb69"
      },
      "execution_count": null,
      "outputs": [
        {
          "name": "stdout",
          "output_type": "stream",
          "text": [
            "What is the size of your car?\n",
            "\n",
            "For compact car enter C, for midsize enter M, for an SUV type S\tS\n"
          ]
        }
      ]
    },
    {
      "cell_type": "code",
      "source": [
        "#Promt for type of cleaning\n",
        "print(\"what type of cleaning are you needing today?\\n \")\n",
        "typeCleaning = input(\"For undercarriage enter U, for tyre and wheel cleaning enter T for spray on wax enter W\\t\") \n",
        "  "
      ],
      "metadata": {
        "colab": {
          "base_uri": "https://localhost:8080/"
        },
        "id": "tTJ58Anj75r9",
        "outputId": "7454b640-8b7d-47c4-d9da-9838c83b2282"
      },
      "execution_count": null,
      "outputs": [
        {
          "name": "stdout",
          "output_type": "stream",
          "text": [
            "what type of cleaning are you needing today?\n",
            " \n",
            "For undercarriage enter U, for tyre and wheel cleaning enter T for spray on wax enter W\tW\n"
          ]
        }
      ]
    },
    {
      "cell_type": "code",
      "source": [
        "def costOfCleaning(sizeCar, typeCleaning):\n",
        "  if sizeCar == \"C\":\n",
        "      costOfCleaning = 6.00\n",
        "      sizeCar = \"compact\"\n",
        "  elif sizeCar == \"M\":\n",
        "     costOfCleaning = 8.00\n",
        "     sizeCar = \"midsize\"\n",
        "  else:\n",
        "      costOfCleaning = 10.00\n",
        "      sizeCar = \"SUV\"\n",
        "  if typeCleaning == \"U\":\n",
        "    print(\"The price to clean your\", sizeCar, \"is \", costOfCleaning*5.00)\n",
        "  elif typeCleaning == \"T\":\n",
        "    print(\"The price to clean your \",sizeCar, \"is\",costOfCleaning*8.00 )\n",
        "  else:\n",
        "    print(\"The price to clean your \", sizeCar, \"is\", costOfCleaning*10.00)\n",
        "  return \n",
        "\n",
        "\n"
      ],
      "metadata": {
        "id": "mn-lLGE58zuS"
      },
      "execution_count": null,
      "outputs": []
    },
    {
      "cell_type": "code",
      "source": [
        "costOfCleaning(sizeCar, typeCleaning)"
      ],
      "metadata": {
        "colab": {
          "base_uri": "https://localhost:8080/"
        },
        "id": "YywToXalHtdU",
        "outputId": "133d87e4-85bd-4f5a-c84f-d561746e9815"
      },
      "execution_count": null,
      "outputs": [
        {
          "output_type": "stream",
          "name": "stdout",
          "text": [
            "The price to clean your  SUV is 100.0\n"
          ]
        }
      ]
    }
  ]
}