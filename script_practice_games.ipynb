{
  "nbformat": 4,
  "nbformat_minor": 0,
  "metadata": {
    "colab": {
      "provenance": [],
      "authorship_tag": "ABX9TyOTLgjuxb726HQALV8dz/Db",
      "include_colab_link": true
    },
    "kernelspec": {
      "name": "python3",
      "display_name": "Python 3"
    },
    "language_info": {
      "name": "python"
    }
  },
  "cells": [
    {
      "cell_type": "markdown",
      "metadata": {
        "id": "view-in-github",
        "colab_type": "text"
      },
      "source": [
        "<a href=\"https://colab.research.google.com/github/cynthialmcginnis/CMIS/blob/main/script_practice_games.ipynb\" target=\"_parent\"><img src=\"https://colab.research.google.com/assets/colab-badge.svg\" alt=\"Open In Colab\"/></a>"
      ]
    },
    {
      "cell_type": "code",
      "execution_count": 2,
      "metadata": {
        "colab": {
          "base_uri": "https://localhost:8080/",
          "height": 53
        },
        "id": "1iEzEGtQR8W3",
        "outputId": "4dda9fdb-7ee3-4912-fe43-8cc11e1d3c60"
      },
      "outputs": [
        {
          "output_type": "execute_result",
          "data": {
            "text/plain": [
              "'\"Write code that asks a user to guess a secret number, prints if the number is too high or too low or a correct guess. <br> If the guessed number is too high, or too low the user guesses again\"'"
            ],
            "application/vnd.google.colaboratory.intrinsic+json": {
              "type": "string"
            }
          },
          "metadata": {},
          "execution_count": 2
        }
      ],
      "source": [
        "# Guess the number Game\n",
        "'\"Write code that asks a user to guess a secret number, prints if the number is too high or too low or a correct guess.  If the guessed number is too high, or too low the user guesses again\"'"
      ]
    },
    {
      "cell_type": "code",
      "source": [],
      "metadata": {
        "id": "DtSVsFsSS1F5"
      },
      "execution_count": null,
      "outputs": []
    },
    {
      "cell_type": "code",
      "source": [
        "#write code that gets a number from the user, then the program attempts to guess the number."
      ],
      "metadata": {
        "id": "y6VyfMBLS1pQ"
      },
      "execution_count": null,
      "outputs": []
    },
    {
      "cell_type": "code",
      "source": [],
      "metadata": {
        "id": "mALC-9UUUNMm"
      },
      "execution_count": null,
      "outputs": []
    },
    {
      "cell_type": "code",
      "source": [
        "#Write a function that determines who wins in Rock, Paper, Scissors"
      ],
      "metadata": {
        "id": "WfQ53RYTUNgI"
      },
      "execution_count": null,
      "outputs": []
    },
    {
      "cell_type": "code",
      "source": [],
      "metadata": {
        "id": "sUo-3tKbUURN"
      },
      "execution_count": null,
      "outputs": []
    },
    {
      "cell_type": "code",
      "source": [],
      "metadata": {
        "id": "NGyq1uTQUUbq"
      },
      "execution_count": null,
      "outputs": []
    },
    {
      "cell_type": "markdown",
      "source": [
        "# Write an adventure game\n",
        "# You are are visiting (city) and decide to go on a (activity) \n",
        "# Chose a length for the activity you can chose time or distance.\n",
        "# You can pick three items to take with you \n",
        "# An event occurs and you decide to go back, turn right, turn left, climb a tree, yell for help\n",
        "# Based on your choice, what happens?  Do you lose one of your items, or are you given another item that might be helpful later.\n",
        "# The game ends when you get back to your starting position with at least one item.  In this case you win!\n",
        "# The game ends when you lose all your items.  In this case you lose : ("
      ],
      "metadata": {
        "id": "WfG8W3_RWN_m"
      }
    }
  ]
}