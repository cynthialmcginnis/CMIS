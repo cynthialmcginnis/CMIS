{
  "nbformat": 4,
  "nbformat_minor": 0,
  "metadata": {
    "colab": {
      "provenance": [],
      "authorship_tag": "ABX9TyMG8hoIdkQPMkdadT796RDG",
      "include_colab_link": true
    },
    "kernelspec": {
      "name": "python3",
      "display_name": "Python 3"
    },
    "language_info": {
      "name": "python"
    }
  },
  "cells": [
    {
      "cell_type": "markdown",
      "metadata": {
        "id": "view-in-github",
        "colab_type": "text"
      },
      "source": [
        "<a href=\"https://colab.research.google.com/github/cynthialmcginnis/CMIS/blob/main/priceDiscount.ipynb\" target=\"_parent\"><img src=\"https://colab.research.google.com/assets/colab-badge.svg\" alt=\"Open In Colab\"/></a>"
      ]
    },
    {
      "cell_type": "code",
      "execution_count": null,
      "metadata": {
        "id": "FR05T6CT6Mnh"
      },
      "outputs": [],
      "source": []
    },
    {
      "cell_type": "markdown",
      "source": [
        "Description\n",
        "\n",
        "Write a program that computes how much a customer has to pay after purchasing two items. Make the lower-priced item half price. If the two items have identical prices, you can make one or the other half price.\n",
        "\n",
        "The price is calculated according to the following rules:\n",
        "• Buy one get one half off promotion: the lower price item is half price.\n",
        "• If the customer is club card member, additional 10% off.\n",
        "• Tax is added.\n",
        "\n",
        "\n",
        "Inputs to the program include:\n",
        "• Two items’ prices\n",
        "• Have club card or not (User enters ‘Y’ or ‘y’ for “yes”; ‘N’ or ‘n’ for “no”)\n",
        "• Tax rate (User enters the percentage as a number; for example, they enter\n",
        "8.25 if the tax rate is 8.25%)\n",
        "\n",
        "\n",
        "Program displays:\n",
        "• Base price - the price before the discounts and taxes\n",
        "• Price after discounts - the price after the buy one get one half off promotion\n",
        "and the member’s discount, if applicable\n",
        "• Total price – the amount of money the customer has to pay (after tax)\n",
        "printed with the precision of 2 decimal digits.\n",
        "\n",
        "\n",
        "Hint: In order to print a number in a specific precision, you can use the round\n",
        "function passing 2 arguments to it. Use help(round) to get a brief explanation of\n",
        "this function, and try playing with it, to better understand what it does.\n",
        "To format to two decimal places you can use the string format function with the format of 2.2f.\n",
        "\n",
        "For example, an execution could look like this:\n",
        "\n",
        "Enter price of the first item: 10\n",
        "Enter price of the second item: 20\n",
        "Does customer have a club card? (Y/N): y\n",
        "Enter tax rate, e.g. 5.5 for 5.5% tax: 8.25\n",
        "Base price = 30.00\n",
        "Price after discounts = 22.50\n",
        "Total price = 24.36\n",
        "\n",
        "\n",
        "File Name \n",
        "\n",
        "cashregister.py\n",
        "\n"
      ],
      "metadata": {
        "id": "uMfL9QTq6ODu"
      }
    },
    {
      "cell_type": "code",
      "source": [
        "p1 = float(input(\"Enter price of the first item: \"))\n",
        "p2 = float(input(\"Enter price of the second item: \"))\n",
        "cC = input(\"Does customer have a club card? (Y/N):\")\n",
        "tR = float(input(\"Enter tax rate, e.g. 5.5 for 5.5% tax: \"))\n"
      ],
      "metadata": {
        "colab": {
          "base_uri": "https://localhost:8080/"
        },
        "id": "ddQf1rm7_iTQ",
        "outputId": "0a92a54d-104e-4fa1-d152-b2569ee0e055"
      },
      "execution_count": 1,
      "outputs": [
        {
          "name": "stdout",
          "output_type": "stream",
          "text": [
            "Enter price of the first item: 10\n",
            "Enter price of the second item: 20\n",
            "Does customer have a club card? (Y/N):n\n",
            "Enter tax rate, e.g. 5.5 for 5.5% tax: 8.25\n"
          ]
        }
      ]
    },
    {
      "cell_type": "code",
      "source": [
        "bPrice = p1 + p2\n",
        "if p1 <= p2:\n",
        "    price = p1 / 2 + p2\n",
        "else:\n",
        "    price = p1 + p2/2    \n",
        "\n",
        "if cC == \"y\" or cC =='Y':\n",
        "    price = price - price*0.10\n",
        "    \n",
        "total_price = price + (tR/100)*price\n",
        "print(\"Base price = {:.2f}\".format(bPrice))\n",
        "print(\"Price after discounts = {:.2f}\".format(price))\n",
        "print(\"Total price = {:.2f}\".format(total_price))"
      ],
      "metadata": {
        "colab": {
          "base_uri": "https://localhost:8080/"
        },
        "id": "mdvmdO5M_l-Y",
        "outputId": "eba63ce7-ceac-4e02-ab31-36d734c96116"
      },
      "execution_count": 2,
      "outputs": [
        {
          "output_type": "stream",
          "name": "stdout",
          "text": [
            "Base price = 30.00\n",
            "Price after discounts =25.00\n",
            "Total price = 27.06\n"
          ]
        }
      ]
    },
    {
      "cell_type": "markdown",
      "source": [
        "#Enter price of the first item: 10\n",
        "#Enter price of the second item: 20\n",
        "#Does customer have a club card? (Y/N): y\n",
        "#Enter tax rate, e.g. 5.5 for 5.5% tax: 8.25\n",
        "#Base price = 30.00\n",
        "#Price after discounts = 22.50\n",
        "#Total price = 24.36"
      ],
      "metadata": {
        "id": "HlS5A2LC_6KC"
      }
    }
  ]
}