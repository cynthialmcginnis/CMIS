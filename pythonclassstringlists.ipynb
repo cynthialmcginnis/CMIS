{
  "nbformat": 4,
  "nbformat_minor": 0,
  "metadata": {
    "colab": {
      "provenance": [],
      "authorship_tag": "ABX9TyNspgS79Yinoz8qkESM1Oxt",
      "include_colab_link": true
    },
    "kernelspec": {
      "name": "python3",
      "display_name": "Python 3"
    },
    "language_info": {
      "name": "python"
    }
  },
  "cells": [
    {
      "cell_type": "markdown",
      "metadata": {
        "id": "view-in-github",
        "colab_type": "text"
      },
      "source": [
        "<a href=\"https://colab.research.google.com/github/cynthialmcginnis/CMIS/blob/main/pythonclassstringlists.ipynb\" target=\"_parent\"><img src=\"https://colab.research.google.com/assets/colab-badge.svg\" alt=\"Open In Colab\"/></a>"
      ]
    },
    {
      "cell_type": "markdown",
      "source": [
        "## Review\n",
        "\n",
        "* if\n",
        "* while\n",
        "* Functions"
      ],
      "metadata": {
        "id": "gi_QgXS-obsK"
      }
    },
    {
      "cell_type": "code",
      "source": [
        "#Write a Python program to find those numbers which are divisible by 7 and multiple of 5, between 1500 and 1700 (both included) and print the numbers.\n",
        "#You will need a for loop in range(1500,1700), an if statement and the operation % modulo 10%5 = 0 because 10/5 = 2 with a remainder of 0.  11%5 = 1 11/5 = 2 with a remder of 1\n"
      ],
      "metadata": {
        "id": "7oHpdrxcorKO"
      },
      "execution_count": null,
      "outputs": []
    },
    {
      "cell_type": "code",
      "source": [
        "\n",
        "#Create a function using the previous problem that takes input variables for the range of values where you want to find numbers both divisible by 7 and 5\n"
      ],
      "metadata": {
        "id": "hNPkon0Es85L"
      },
      "execution_count": null,
      "outputs": []
    },
    {
      "cell_type": "code",
      "source": [
        "#Create a function using the previous problem that takes input variables for the range of values and two numbers you want to check for divisiblity"
      ],
      "metadata": {
        "id": "ggeqOnvnxeCk"
      },
      "execution_count": null,
      "outputs": []
    },
    {
      "cell_type": "code",
      "source": [
        "#Create a function that uses a while loop that runs until it finds the first number divisible by both 7 and 5"
      ],
      "metadata": {
        "id": "jnpiIHilubGD"
      },
      "execution_count": null,
      "outputs": []
    },
    {
      "cell_type": "code",
      "source": [
        "#Example\n",
        "while True:\n",
        "    line = input('> ')\n",
        "    if line == 'done':\n",
        "      break\n",
        "      print(line)\n",
        "print('Done!')"
      ],
      "metadata": {
        "id": "RjHFor0rubJG"
      },
      "execution_count": null,
      "outputs": []
    },
    {
      "cell_type": "code",
      "source": [
        "#explain what happens in the while loop\n",
        "x = 1;\n",
        "s = 0\n",
        "while (x < 10):\n",
        "     s = s + x\n",
        "     x = x + 1\n",
        "     if (x == 5):\n",
        "          break\n",
        "else :\n",
        "     print('The sum of first 9 integers : ',s)        \n",
        "print('The sum of ',x,' numbers is :',s) "
      ],
      "metadata": {
        "id": "qGuewKr5ubQY"
      },
      "execution_count": null,
      "outputs": []
    },
    {
      "cell_type": "code",
      "source": [
        "def my_add(x,y,s):\n",
        "  while (x < y):\n",
        "     s = s + x\n",
        "     x = x + 1\n",
        "     if (x == y):\n",
        "          break\n",
        "  else :\n",
        "     print('The sum of first 9 integers : ',s)        \n",
        "  print('The sum of ',x,' numbers is :',s) \n"
      ],
      "metadata": {
        "id": "kwJTHJ0TubWp"
      },
      "execution_count": null,
      "outputs": []
    },
    {
      "cell_type": "code",
      "source": [
        "my_add(1,20,0)"
      ],
      "metadata": {
        "id": "gv-ld5JpubZg"
      },
      "execution_count": null,
      "outputs": []
    },
    {
      "cell_type": "code",
      "source": [
        "#Strings\n",
        "my_string = \"I love to code even though I get frustrated sometimes\"\n",
        "myNew_string = \"\"\n",
        "for letter in my_string:\n",
        "  if letter != \" \":\n",
        "    myNew_string = myNew_string+letter\n",
        "    #print(letter)\n",
        "print(myNew_string)"
      ],
      "metadata": {
        "id": "--pRUEBYv7Y7"
      },
      "execution_count": null,
      "outputs": []
    },
    {
      "cell_type": "code",
      "source": [
        "my_string.find(\"code\")   #code starts with the 10th element"
      ],
      "metadata": {
        "id": "QDZFUUILweCY"
      },
      "execution_count": null,
      "outputs": []
    },
    {
      "cell_type": "code",
      "source": [
        "my_string.find(\"e\")      #e is the 5th element"
      ],
      "metadata": {
        "id": "pZpruJXkxiXB"
      },
      "execution_count": null,
      "outputs": []
    },
    {
      "cell_type": "code",
      "source": [
        "my_string.find(\"e\",10)  #10 is the starting position"
      ],
      "metadata": {
        "id": "XXu8wOu7yBIy"
      },
      "execution_count": null,
      "outputs": []
    },
    {
      "cell_type": "code",
      "source": [
        "my_string.find(\"e\",14, 20 ) #start at the 14th element and end at the 20th element"
      ],
      "metadata": {
        "id": "uob8RetGypV6"
      },
      "execution_count": null,
      "outputs": []
    },
    {
      "cell_type": "code",
      "source": [
        "my_string.count('e') #Counts the number of e's in the string"
      ],
      "metadata": {
        "id": "qVAkxqqJzJBx"
      },
      "execution_count": null,
      "outputs": []
    },
    {
      "cell_type": "code",
      "source": [
        "my_string.count(\"code\")"
      ],
      "metadata": {
        "id": "S-PEl9rMzhog"
      },
      "execution_count": null,
      "outputs": []
    },
    {
      "cell_type": "code",
      "source": [
        "my_string.isalnum()"
      ],
      "metadata": {
        "id": "79fkQJbJ0uNi"
      },
      "execution_count": null,
      "outputs": []
    },
    {
      "cell_type": "code",
      "source": [
        "my_string.isalpha()"
      ],
      "metadata": {
        "id": "nSPlc7HE0-Ox"
      },
      "execution_count": null,
      "outputs": []
    },
    {
      "cell_type": "code",
      "source": [
        "myNew_string.isalpha()\n"
      ],
      "metadata": {
        "id": "QOFalFHA1PM9"
      },
      "execution_count": null,
      "outputs": []
    },
    {
      "cell_type": "code",
      "source": [
        "myNew_string.upper()"
      ],
      "metadata": {
        "id": "GfKemMmH-2u8"
      },
      "execution_count": null,
      "outputs": []
    },
    {
      "cell_type": "code",
      "source": [
        "#Reverse a string\n",
        "short_string = \"Python is fun\"\n",
        "index = len(short_string) - 1\n",
        "while index >= 0:\n",
        "    print(\"index = \", index, short_string[index])\n",
        "    index = index - 1"
      ],
      "metadata": {
        "id": "7gtSUi0W6_z7"
      },
      "execution_count": null,
      "outputs": []
    },
    {
      "cell_type": "markdown",
      "source": [
        "## Strings are an example of Python objects. An object contains both data (the actual string itself) and methods, which are effectively functions that are built into the object and are available to any instance of the object.\n",
        "\n",
        "# Python has a function called dir which lists the methods available for an object."
      ],
      "metadata": {
        "id": "LHMPPGch8Opt"
      }
    },
    {
      "cell_type": "code",
      "source": [
        "print(dir(short_string))"
      ],
      "metadata": {
        "id": "NX6A4sFL8NLb"
      },
      "execution_count": null,
      "outputs": []
    },
    {
      "cell_type": "code",
      "source": [
        "help(short_string.title)"
      ],
      "metadata": {
        "id": "EhvGsTuW8mn0"
      },
      "execution_count": null,
      "outputs": []
    },
    {
      "cell_type": "code",
      "source": [
        "short_string.title()"
      ],
      "metadata": {
        "id": "OtbCi20386eI"
      },
      "execution_count": null,
      "outputs": []
    },
    {
      "cell_type": "code",
      "source": [
        "#List is a collection which is ordered and changeable. Allows duplicate members.\n",
        "#for loops with lists\n",
        "color_list = [\"Red\", \"Blue\", \"Green\", \"Black\"] #a list is enclosed with square brackets\n",
        "for c in color_list:\n",
        "    print(c)"
      ],
      "metadata": {
        "id": "3rDs02qgubi4"
      },
      "execution_count": null,
      "outputs": []
    },
    {
      "cell_type": "code",
      "source": [
        "#indexing a list element\n",
        "for i in range(3):  #0 <=x < 3\n",
        "  print(\"i = \", i, \"=\", color_list[i])"
      ],
      "metadata": {
        "id": "4I6xucVDAjD_"
      },
      "execution_count": null,
      "outputs": []
    },
    {
      "cell_type": "code",
      "source": [
        "my_colors = [\"red\", \"green\", \"blue\", \"black\", \"orange\", \"yellow\", \"purple\"]\n",
        "#write code that prints the 4th 5th and 6th color"
      ],
      "metadata": {
        "id": "Z-ZKkrUK4JGR"
      },
      "execution_count": null,
      "outputs": []
    },
    {
      "cell_type": "code",
      "source": [
        "#Start with the number 3, end at 20 and count by 5's\n",
        "for a in range(3,20,5):\n",
        "  print(a)"
      ],
      "metadata": {
        "id": "ZYtLvRa-ubpH"
      },
      "execution_count": null,
      "outputs": []
    },
    {
      "cell_type": "code",
      "source": [
        "#Write a for loop that counts by 3's and multiplies two numbers, then print the calculation\n"
      ],
      "metadata": {
        "id": "F4l6DW9jubr_"
      },
      "execution_count": null,
      "outputs": []
    },
    {
      "cell_type": "code",
      "source": [
        "count = 0\n",
        "for i in [3, 41, 12, 9, 74, 15]:\n",
        "    count = count + 1\n",
        "print(\"Count:\", count)"
      ],
      "metadata": {
        "id": "eEiyWOY3ubvZ"
      },
      "execution_count": null,
      "outputs": []
    },
    {
      "cell_type": "code",
      "source": [
        "#Run the code and describe what is happening\n",
        "count = 0\n",
        "for i in [3, 41, 12, 9, 74, 15]:\n",
        "    \n",
        "    print(\"Element\", count, \"Value\", [i])\n",
        "    count = count + 1\n",
        "    \n",
        "print(\"Count:\", count)"
      ],
      "metadata": {
        "id": "rCKvH4K3BXih"
      },
      "execution_count": null,
      "outputs": []
    },
    {
      "cell_type": "code",
      "source": [
        "count = [3, 41, 12, 9, 74, 15]\n",
        "len(count)"
      ],
      "metadata": {
        "id": "VV_Gccub55Dk"
      },
      "execution_count": null,
      "outputs": []
    },
    {
      "cell_type": "code",
      "source": [
        "# Tuples are ordered lists that are unchangeable\n",
        "numbers = (1, 2, 3, 4, 5, 6, 7, 8, 9) # Declaring the tuple.                 \n",
        "count_odd = 0\n",
        "count_even = 0\n",
        "for x in numbers:\n",
        "        if x % 2:\n",
        "    \t     count_odd+=1\n",
        "        else:\n",
        "    \t     count_even+=1\n",
        "print(\"Number of even numbers :\",count_even)\n",
        "print(\"Number of odd numbers :\",count_odd)\n"
      ],
      "metadata": {
        "id": "XoAUeCOjubyf"
      },
      "execution_count": null,
      "outputs": []
    },
    {
      "cell_type": "markdown",
      "source": [
        "#Python Collections (Arrays)\n",
        "#There are four collection data types in the Python programming language:\n",
        "\n",
        "* List is a collection which is ordered and changeable. Allows duplicate members.\n",
        "* Tuple is a collection which is ordered and unchangeable. Allows duplicate members.\n",
        "* Set is a collection which is unordered, unchangeable, and unindexed. No duplicate members.\n",
        "* Dictionary is a collection which is ordered and changeable. No duplicate members."
      ],
      "metadata": {
        "id": "q1kUUB2F5ORg"
      }
    },
    {
      "cell_type": "code",
      "source": [
        "# Review Strings\n",
        "my_string = \"Coding is Fun!\"\n",
        "\n"
      ],
      "metadata": {
        "id": "hSlj1MK0ETFP"
      },
      "execution_count": null,
      "outputs": []
    },
    {
      "cell_type": "code",
      "source": [
        "#Length of a string\n",
        "len(my_string)"
      ],
      "metadata": {
        "id": "SV0zqoeHK3e1"
      },
      "execution_count": null,
      "outputs": []
    },
    {
      "cell_type": "code",
      "source": [
        "#Indexing a string\n",
        "my_string[1]"
      ],
      "metadata": {
        "id": "c-7WwtxfK-X_"
      },
      "execution_count": null,
      "outputs": []
    },
    {
      "cell_type": "code",
      "source": [
        "#Indexing with negative numbers\n",
        "my_string[-1] #the last element in the string"
      ],
      "metadata": {
        "id": "R5gEEN43ON0-"
      },
      "execution_count": null,
      "outputs": []
    },
    {
      "cell_type": "code",
      "source": [
        "#adding string elements\n",
        "my_string[1]+my_string[3]"
      ],
      "metadata": {
        "id": "A7-bBKhwEfL9"
      },
      "execution_count": null,
      "outputs": []
    },
    {
      "cell_type": "code",
      "source": [
        "#slicing string elements \n",
        "my_string[1:4]"
      ],
      "metadata": {
        "id": "Bjcc4zTlEoDa"
      },
      "execution_count": null,
      "outputs": []
    },
    {
      "cell_type": "code",
      "source": [
        "# write code to return the 6th element in the string, my_string"
      ],
      "metadata": {
        "id": "IVGDofi0E2FU"
      },
      "execution_count": null,
      "outputs": []
    },
    {
      "cell_type": "code",
      "source": [
        "# write code to return the 4 through 7th element in the string, my_string"
      ],
      "metadata": {
        "id": "WJSWJ7-AE8dI"
      },
      "execution_count": null,
      "outputs": []
    },
    {
      "cell_type": "code",
      "source": [
        "#write a for loop to print all elements in the string, my_string\n"
      ],
      "metadata": {
        "id": "fwihmzbtFB7p"
      },
      "execution_count": null,
      "outputs": []
    },
    {
      "cell_type": "code",
      "source": [
        "#add elements to a string\n",
        "string1 = \"I \"\n",
        "string2 = \"love to \"\n",
        "string3 = \"code\"\n",
        "\n",
        "new_string = string1+string2+string3\n",
        "\n",
        "print(new_string)"
      ],
      "metadata": {
        "id": "3UHc_pe5ITVI"
      },
      "execution_count": null,
      "outputs": []
    },
    {
      "cell_type": "markdown",
      "source": [
        "# Tuples (\"a\",\"b\",\"c\",\"d\")\n",
        "* Tuple is a collection which is ordered and unchangeable. Allows duplicate members.\n",
        "\n"
      ],
      "metadata": {
        "id": "NcxR4tlXFfn5"
      }
    },
    {
      "cell_type": "code",
      "source": [
        "my_tuple = (\"a\",\"b\",\"c\",\"d\")\n"
      ],
      "metadata": {
        "id": "-ASwRA24Fpvj"
      },
      "execution_count": null,
      "outputs": []
    },
    {
      "cell_type": "code",
      "source": [
        "my_tuple[0]"
      ],
      "metadata": {
        "id": "JOfMpAihFt1R"
      },
      "execution_count": null,
      "outputs": []
    },
    {
      "cell_type": "code",
      "source": [
        "my_tuple[3]"
      ],
      "metadata": {
        "id": "dMwDUFPsFxVv"
      },
      "execution_count": null,
      "outputs": []
    },
    {
      "cell_type": "code",
      "source": [
        "my_tuple[-1]"
      ],
      "metadata": {
        "id": "_bB4X4f3OW2z"
      },
      "execution_count": null,
      "outputs": []
    },
    {
      "cell_type": "code",
      "source": [
        "my_tuple[1:3]"
      ],
      "metadata": {
        "id": "G9OEp6sbG49i"
      },
      "execution_count": null,
      "outputs": []
    },
    {
      "cell_type": "code",
      "source": [
        "# Create a tuple then use your tuple in a for or while loop to print the elements in the tuple\n"
      ],
      "metadata": {
        "id": "rJ0X2W2MBJJo"
      },
      "execution_count": null,
      "outputs": []
    },
    {
      "cell_type": "markdown",
      "source": [
        "# List Items\n",
        "# List items are ordered, changeable, and allow duplicate values.\n",
        "\n",
        "* List items are indexed, the first item has index [0], the second item has index [1] etc.\n",
        "\n",
        "#Ordered\n",
        "* When we say that lists are ordered, it means that the items have a defined order, and that order will not change.\n",
        "\n",
        "* If you add new items to a list, the new items will be placed at the end of the list."
      ],
      "metadata": {
        "id": "kY0ucYjK8r3W"
      }
    },
    {
      "cell_type": "code",
      "source": [
        "total = 0 \n",
        "for num in [3, 41, 12, 9, 74, 15]:    #list used [] brackets\n",
        "    total = total + num\n",
        "print(\"Total: \", total)"
      ],
      "metadata": {
        "id": "_RtgmJrwucC8"
      },
      "execution_count": null,
      "outputs": []
    },
    {
      "cell_type": "code",
      "source": [
        "num = [3, 41, 12, 9, 74, 15]\n",
        "len(num)"
      ],
      "metadata": {
        "id": "PhzpO0U5ucFx"
      },
      "execution_count": null,
      "outputs": []
    },
    {
      "cell_type": "code",
      "source": [
        "num[4]"
      ],
      "metadata": {
        "id": "YOfNBoqLLiGr"
      },
      "execution_count": null,
      "outputs": []
    },
    {
      "cell_type": "code",
      "source": [
        "\n",
        "for n in range(len(num)): \n",
        "  \n",
        "  print(\"num[\",n, \"] =\", num[n])\n",
        " "
      ],
      "metadata": {
        "id": "nilzSYEs9VEF"
      },
      "execution_count": null,
      "outputs": []
    },
    {
      "cell_type": "code",
      "source": [
        "for n in num:\n",
        "  print(\"num = \",n)\n"
      ],
      "metadata": {
        "id": "YER5c200-Pa9"
      },
      "execution_count": null,
      "outputs": []
    },
    {
      "cell_type": "code",
      "source": [
        "num[1]+num[2]"
      ],
      "metadata": {
        "id": "Lbz1En9i_WNq"
      },
      "execution_count": null,
      "outputs": []
    },
    {
      "cell_type": "code",
      "source": [
        "#Create a list then print each item in the list"
      ],
      "metadata": {
        "id": "1Ps8_DsfLuQy"
      },
      "execution_count": null,
      "outputs": []
    },
    {
      "cell_type": "code",
      "source": [
        "# write a program to find the largest number in the list\n",
        "my_list = [55, 41, 12, 90, 74, 12]"
      ],
      "metadata": {
        "id": "AIzFxzdLBBUk"
      },
      "execution_count": null,
      "outputs": []
    },
    {
      "cell_type": "code",
      "source": [
        "# write a program to find the smallest number in the list\n",
        "my_list = [55, 41, 12, 90, 74, 12]"
      ],
      "metadata": {
        "id": "A1vn0PCSDcwr"
      },
      "execution_count": null,
      "outputs": []
    },
    {
      "cell_type": "code",
      "source": [
        "#add elements to a list with .append()\n",
        "\n",
        "my_list.append(2)\n",
        "my_list"
      ],
      "metadata": {
        "id": "8h07Nix5INoC"
      },
      "execution_count": null,
      "outputs": []
    },
    {
      "cell_type": "code",
      "source": [
        "my_list.pop(3)"
      ],
      "metadata": {
        "id": "H2FXMWxnKNEj"
      },
      "execution_count": null,
      "outputs": []
    },
    {
      "cell_type": "code",
      "source": [
        "my_list"
      ],
      "metadata": {
        "id": "Vdinj6HbKVQf"
      },
      "execution_count": null,
      "outputs": []
    },
    {
      "cell_type": "code",
      "source": [
        "my_list.pop()"
      ],
      "metadata": {
        "id": "3A-n-PJtKaOd"
      },
      "execution_count": null,
      "outputs": []
    },
    {
      "cell_type": "code",
      "source": [
        "my_list"
      ],
      "metadata": {
        "id": "_-QxCEalKef5"
      },
      "execution_count": null,
      "outputs": []
    },
    {
      "cell_type": "code",
      "source": [
        "#Fill up an empty list\n",
        "new_list = []\n",
        "for i in range(8):\n",
        "  new_list.append(i)\n",
        "\n",
        "print(new_list)"
      ],
      "metadata": {
        "id": "mMOKa6hJL6od"
      },
      "execution_count": null,
      "outputs": []
    },
    {
      "cell_type": "code",
      "source": [
        "#combine two lists\n",
        "my_list+new_list"
      ],
      "metadata": {
        "id": "K-lg9G6GMUaM"
      },
      "execution_count": null,
      "outputs": []
    },
    {
      "cell_type": "code",
      "source": [
        "#write code that prompts the user for input and fills up an empty list with 4 elements in the list\n",
        "\n"
      ],
      "metadata": {
        "id": "XmR7csTsMhxY"
      },
      "execution_count": null,
      "outputs": []
    },
    {
      "cell_type": "markdown",
      "source": [
        "# Solutions"
      ],
      "metadata": {
        "id": "onsooEb1ugua"
      }
    },
    {
      "cell_type": "code",
      "source": [
        "for i in range(1500,1700):\n",
        "  x = i%7\n",
        "  y = i%5\n",
        "  if x == y == 0:\n",
        "    print(i)"
      ],
      "metadata": {
        "id": "Dk1oyXK0ukFA"
      },
      "execution_count": null,
      "outputs": []
    },
    {
      "cell_type": "code",
      "source": [
        "#Create a function using the previous problem input the range of values where you want to find numbers both divisible by 7 and 5\n",
        "def find_nums(a,b):\n",
        "  for i in range(a,b): \n",
        "    x = i%7\n",
        "    y = i%5\n",
        "    if x == y == 0:\n",
        "      print(i)"
      ],
      "metadata": {
        "id": "y7oJuq50ucI4"
      },
      "execution_count": null,
      "outputs": []
    },
    {
      "cell_type": "code",
      "source": [
        "find_nums(0,500)"
      ],
      "metadata": {
        "id": "056RmlKKtxh6"
      },
      "execution_count": null,
      "outputs": []
    },
    {
      "cell_type": "code",
      "source": [
        "#find the first number divisible by 5 and 7\n",
        "div_7and5 = \"True\"\n",
        "i = 0\n",
        "while div_7and5 == \"True\":\n",
        "  i += 1\n",
        "  x = i % 7\n",
        "  y = i % 5\n",
        " \n",
        "  if x == y == 0:\n",
        "    div_7and5 = \"False\"\n",
        "    print(i)"
      ],
      "metadata": {
        "id": "pHA_0KmuvTLU"
      },
      "execution_count": null,
      "outputs": []
    },
    {
      "cell_type": "code",
      "source": [
        "#Find the largest value in a list\n",
        "my_list = [55, 41, 12, 90, 74, 12]\n",
        "largest = -1\n",
        "\n",
        "for i in my_list:\n",
        "    if i > largest:\n",
        "        largest = i\n",
        "    print(\"Current value:\", i, \" Largest so far\", largest)\n",
        "\n",
        "print(\"Largest:\", largest)"
      ],
      "metadata": {
        "id": "q6bF6TAcB4SO"
      },
      "execution_count": null,
      "outputs": []
    },
    {
      "cell_type": "code",
      "source": [
        "#Find the smallest Value\n",
        "smallest = None\n",
        "print(\"Before:\", smallest)\n",
        "for itervar in [3, 41, 12, 9, 74, 15]:\n",
        "    if smallest is None or itervar < smallest:\n",
        "        smallest = itervar\n",
        "    print(\"Current value:\", itervar, \" Smallest so far\", smallest)\n",
        "print(\"Smallest:\", smallest)"
      ],
      "metadata": {
        "id": "Zm2EeKenDKo0"
      },
      "execution_count": null,
      "outputs": []
    }
  ]
}