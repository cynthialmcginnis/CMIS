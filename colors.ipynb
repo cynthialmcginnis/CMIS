{
  "nbformat": 4,
  "nbformat_minor": 0,
  "metadata": {
    "colab": {
      "provenance": [],
      "authorship_tag": "ABX9TyOjjaWess8iicMvdnyXqAyJ",
      "include_colab_link": true
    },
    "kernelspec": {
      "name": "python3",
      "display_name": "Python 3"
    },
    "language_info": {
      "name": "python"
    }
  },
  "cells": [
    {
      "cell_type": "markdown",
      "metadata": {
        "id": "view-in-github",
        "colab_type": "text"
      },
      "source": [
        "<a href=\"https://colab.research.google.com/github/cynthialmcginnis/CMIS/blob/main/colors.ipynb\" target=\"_parent\"><img src=\"https://colab.research.google.com/assets/colab-badge.svg\" alt=\"Open In Colab\"/></a>"
      ]
    },
    {
      "cell_type": "code",
      "execution_count": null,
      "metadata": {
        "colab": {
          "base_uri": "https://localhost:8080/"
        },
        "id": "pJOAaeygN6dP",
        "outputId": "de56dbd0-d7ee-4a3a-f7b8-5cb82f4552f4"
      },
      "outputs": [
        {
          "output_type": "stream",
          "name": "stdout",
          "text": [
            "blue\n"
          ]
        }
      ],
      "source": [
        "if \"blue\" < \"yellow\":\n",
        "  print(\"blue\")"
      ]
    },
    {
      "cell_type": "code",
      "source": [
        "pip install simple-colors\n"
      ],
      "metadata": {
        "colab": {
          "base_uri": "https://localhost:8080/"
        },
        "id": "N39mq430OzsE",
        "outputId": "189eb9d1-a9e4-493e-8796-a3219cd92e9f"
      },
      "execution_count": null,
      "outputs": [
        {
          "output_type": "stream",
          "name": "stdout",
          "text": [
            "Looking in indexes: https://pypi.org/simple, https://us-python.pkg.dev/colab-wheels/public/simple/\n",
            "Requirement already satisfied: simple-colors in /usr/local/lib/python3.7/dist-packages (0.1.5)\n"
          ]
        }
      ]
    },
    {
      "cell_type": "code",
      "source": [
        "\n",
        "from simple_colors import * #from simple_colors import all\n",
        "print(green('hello'))\n",
        "print(blue('hello', 'bold'))\n",
        "print(red('hello', ['bold', 'underlined']))"
      ],
      "metadata": {
        "colab": {
          "base_uri": "https://localhost:8080/"
        },
        "id": "C0EmLioEPwtN",
        "outputId": "6338d0b5-5ed8-46e2-8892-747638795196"
      },
      "execution_count": null,
      "outputs": [
        {
          "output_type": "stream",
          "name": "stdout",
          "text": [
            "\u001b[32mhello\u001b[0m\n",
            "\u001b[1;34mhello\u001b[0m\n",
            "\u001b[1;4;31mhello\u001b[0m\n"
          ]
        }
      ]
    },
    {
      "cell_type": "code",
      "source": [
        "print(red('This is red'))\n",
        "print(blue('This is Blue', 'bold'))\n",
        "print(green('hello', ['bold', 'underlined']))\n",
        "print(yellow('''This is yellow'''))"
      ],
      "metadata": {
        "colab": {
          "base_uri": "https://localhost:8080/"
        },
        "id": "InpHO31fQTQ4",
        "outputId": "000910eb-c1dd-4b72-d2d0-c19017495b93"
      },
      "execution_count": null,
      "outputs": [
        {
          "output_type": "stream",
          "name": "stdout",
          "text": [
            "\u001b[31mThis is red\u001b[0m\n",
            "\u001b[1;34mThis is Blue\u001b[0m\n",
            "\u001b[1;4;32mhello\u001b[0m\n",
            "\u001b[33mThis is yellow\u001b[0m\n"
          ]
        }
      ]
    },
    {
      "cell_type": "code",
      "source": [
        "my_yellow = yellow(\"this is yellow\")\n",
        "print(my_yellow)"
      ],
      "metadata": {
        "colab": {
          "base_uri": "https://localhost:8080/"
        },
        "id": "h4pREVVmXp8m",
        "outputId": "74307ad6-2260-4267-dfbc-88593a33c223"
      },
      "execution_count": null,
      "outputs": [
        {
          "output_type": "stream",
          "name": "stdout",
          "text": [
            "\u001b[33mthis is yellow\u001b[0m\n"
          ]
        }
      ]
    },
    {
      "cell_type": "code",
      "source": [
        "italic_text = \"\\x1B[3m\" + my_yellow + \"\\x1B[0m\""
      ],
      "metadata": {
        "id": "E2XNjJe8X61B"
      },
      "execution_count": null,
      "outputs": []
    },
    {
      "cell_type": "code",
      "source": [
        "print(italic_text)"
      ],
      "metadata": {
        "colab": {
          "base_uri": "https://localhost:8080/"
        },
        "id": "QB3fQgWwSEou",
        "outputId": "f6c4c5f5-45e2-480d-dd2c-9b08647092b8"
      },
      "execution_count": null,
      "outputs": [
        {
          "output_type": "stream",
          "name": "stdout",
          "text": [
            "\u001b[3m\u001b[33mthis is yellow\u001b[0m\u001b[0m\n"
          ]
        }
      ]
    },
    {
      "cell_type": "code",
      "source": [],
      "metadata": {
        "id": "QsGxVZEcdXBZ"
      },
      "execution_count": 62,
      "outputs": []
    }
  ]
}