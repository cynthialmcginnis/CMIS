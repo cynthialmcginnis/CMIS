{
  "nbformat": 4,
  "nbformat_minor": 0,
  "metadata": {
    "colab": {
      "provenance": [],
      "authorship_tag": "ABX9TyMU0v+h2KQx8qraBOPuBBM0",
      "include_colab_link": true
    },
    "kernelspec": {
      "name": "python3",
      "display_name": "Python 3"
    },
    "language_info": {
      "name": "python"
    }
  },
  "cells": [
    {
      "cell_type": "markdown",
      "metadata": {
        "id": "view-in-github",
        "colab_type": "text"
      },
      "source": [
        "<a href=\"https://colab.research.google.com/github/cynthialmcginnis/CMIS/blob/main/PythonClass2.ipynb\" target=\"_parent\"><img src=\"https://colab.research.google.com/assets/colab-badge.svg\" alt=\"Open In Colab\"/></a>"
      ]
    },
    {
      "cell_type": "code",
      "execution_count": null,
      "metadata": {
        "id": "9Ew0pYCSgC88"
      },
      "outputs": [],
      "source": [
        "## \"Functions in Python\"\n",
        "\n",
        "## A function is a named sequence of steps\n",
        "\n"
      ]
    },
    {
      "cell_type": "code",
      "source": [
        "print(\"https://docs.python.org\")\n",
        "print(\"https://docs.python.org/3/library/index.html\")"
      ],
      "metadata": {
        "colab": {
          "base_uri": "https://localhost:8080/"
        },
        "id": "yOFpF7b5ieUP",
        "outputId": "5b52abd3-026e-4d7c-addc-1379d5da10ec"
      },
      "execution_count": 66,
      "outputs": [
        {
          "output_type": "stream",
          "name": "stdout",
          "text": [
            "https://docs.python.org\n",
            "https://docs.python.org/3/library/index.html\n"
          ]
        }
      ]
    },
    {
      "cell_type": "code",
      "source": [
        "pip install fontstyle # Loading a premade package"
      ],
      "metadata": {
        "id": "ldSjKpV1sbdZ",
        "colab": {
          "base_uri": "https://localhost:8080/"
        },
        "outputId": "d1cf8264-c043-4b92-ca8c-12f1b18c0f37"
      },
      "execution_count": 5,
      "outputs": [
        {
          "output_type": "stream",
          "name": "stdout",
          "text": [
            "Looking in indexes: https://pypi.org/simple, https://us-python.pkg.dev/colab-wheels/public/simple/\n",
            "Collecting fontstyle\n",
            "  Downloading fontstyle-1.0.1.2.tar.gz (6.0 kB)\n",
            "Requirement already satisfied: setuptools in /usr/local/lib/python3.7/dist-packages (from fontstyle) (57.4.0)\n",
            "Building wheels for collected packages: fontstyle\n",
            "  Building wheel for fontstyle (setup.py) ... \u001b[?25l\u001b[?25hdone\n",
            "  Created wheel for fontstyle: filename=fontstyle-1.0.1.2-py3-none-any.whl size=6409 sha256=720995c2232cbf014e2f4cee5af151102c29d66284cb954ec1efca371f896847\n",
            "  Stored in directory: /root/.cache/pip/wheels/1d/ae/ac/e341692c5fc6af1e5eb72817d729d0bb451588e422e07a949d\n",
            "Successfully built fontstyle\n",
            "Installing collected packages: fontstyle\n",
            "Successfully installed fontstyle-1.0.1.2\n"
          ]
        }
      ]
    },
    {
      "cell_type": "markdown",
      "source": [
        "# Sometimes terminal text can be hard to read, the fontstyle module is package hosted on pypi.org for manipulating text. It can be used to break up the noise with some additional formatting, add colors, font weights and other styles to make it more readable"
      ],
      "metadata": {
        "id": "PNLnW3Melqfk"
      }
    },
    {
      "cell_type": "code",
      "source": [
        "# import module\n",
        "import fontstyle\n",
        " \n",
        "# format text\n",
        "text = fontstyle.apply('Functions in Python', 'bold/Italic/red/YELLOW_BG') ## Using a predefined funtion\n",
        " \n",
        "# display text\n",
        "print(text)\n"
      ],
      "metadata": {
        "id": "WL0Bh2HUsho7",
        "colab": {
          "base_uri": "https://localhost:8080/"
        },
        "outputId": "291a4045-eb1c-442b-f10c-15ee47515ec3"
      },
      "execution_count": 72,
      "outputs": [
        {
          "output_type": "stream",
          "name": "stdout",
          "text": [
            "\u001b[1m\u001b[3m\u001b[91m\u001b[43mFunctions in Python\u001b[0m\n"
          ]
        }
      ]
    },
    {
      "cell_type": "code",
      "source": [
        "dir(fontstyle)"
      ],
      "metadata": {
        "colab": {
          "base_uri": "https://localhost:8080/"
        },
        "id": "74VMvj1-lXVi",
        "outputId": "d230bd8e-f2c7-46ad-f9b1-821f839bcac2"
      },
      "execution_count": 67,
      "outputs": [
        {
          "output_type": "execute_result",
          "data": {
            "text/plain": [
              "['BEAUTIFICATION',\n",
              " 'COLORS',\n",
              " 'ESCAPES',\n",
              " 'FORMATTING',\n",
              " 'STRSET',\n",
              " 'STRSTYLE',\n",
              " 'STYLES',\n",
              " '__ansi_reference__',\n",
              " '__author__',\n",
              " '__builtins__',\n",
              " '__cached__',\n",
              " '__description__',\n",
              " '__doc__',\n",
              " '__email__',\n",
              " '__file__',\n",
              " '__license__',\n",
              " '__loader__',\n",
              " '__long_description__',\n",
              " '__name__',\n",
              " '__package__',\n",
              " '__path__',\n",
              " '__source__',\n",
              " '__spec__',\n",
              " '__version__',\n",
              " 'apply',\n",
              " 'contains',\n",
              " 'core',\n",
              " 'erase',\n",
              " 'escapes',\n",
              " 'normalize',\n",
              " 'numbers',\n",
              " 'options',\n",
              " 'patternize',\n",
              " 'preserve',\n",
              " 'prettify',\n",
              " 'pretty',\n",
              " 'strip',\n",
              " 'uglify',\n",
              " 'ugly']"
            ]
          },
          "metadata": {},
          "execution_count": 67
        }
      ]
    },
    {
      "cell_type": "code",
      "source": [
        "print(\"https://docs.python.org/3/library/math.html#\")"
      ],
      "metadata": {
        "colab": {
          "base_uri": "https://localhost:8080/"
        },
        "id": "V448XmiFjh6h",
        "outputId": "d751be16-5bb9-4963-df82-6c9dc44388f3"
      },
      "execution_count": 65,
      "outputs": [
        {
          "output_type": "stream",
          "name": "stdout",
          "text": [
            "https://docs.python.org/3/library/math.html#\n"
          ]
        }
      ]
    },
    {
      "cell_type": "code",
      "source": [
        "## PreDefined Packages\n",
        "import math\n"
      ],
      "metadata": {
        "id": "IA1H24uNuYpi"
      },
      "execution_count": 7,
      "outputs": []
    },
    {
      "cell_type": "code",
      "source": [
        "dir(math)"
      ],
      "metadata": {
        "colab": {
          "base_uri": "https://localhost:8080/"
        },
        "id": "McbqfV0KmkmB",
        "outputId": "1e73066b-6120-4d08-f378-24ef96807205"
      },
      "execution_count": 73,
      "outputs": [
        {
          "output_type": "execute_result",
          "data": {
            "text/plain": [
              "['__doc__',\n",
              " '__loader__',\n",
              " '__name__',\n",
              " '__package__',\n",
              " '__spec__',\n",
              " 'acos',\n",
              " 'acosh',\n",
              " 'asin',\n",
              " 'asinh',\n",
              " 'atan',\n",
              " 'atan2',\n",
              " 'atanh',\n",
              " 'ceil',\n",
              " 'copysign',\n",
              " 'cos',\n",
              " 'cosh',\n",
              " 'degrees',\n",
              " 'e',\n",
              " 'erf',\n",
              " 'erfc',\n",
              " 'exp',\n",
              " 'expm1',\n",
              " 'fabs',\n",
              " 'factorial',\n",
              " 'floor',\n",
              " 'fmod',\n",
              " 'frexp',\n",
              " 'fsum',\n",
              " 'gamma',\n",
              " 'gcd',\n",
              " 'hypot',\n",
              " 'inf',\n",
              " 'isclose',\n",
              " 'isfinite',\n",
              " 'isinf',\n",
              " 'isnan',\n",
              " 'ldexp',\n",
              " 'lgamma',\n",
              " 'log',\n",
              " 'log10',\n",
              " 'log1p',\n",
              " 'log2',\n",
              " 'modf',\n",
              " 'nan',\n",
              " 'pi',\n",
              " 'pow',\n",
              " 'radians',\n",
              " 'remainder',\n",
              " 'sin',\n",
              " 'sinh',\n",
              " 'sqrt',\n",
              " 'tan',\n",
              " 'tanh',\n",
              " 'tau',\n",
              " 'trunc']"
            ]
          },
          "metadata": {},
          "execution_count": 73
        }
      ]
    },
    {
      "cell_type": "code",
      "source": [
        "math.fabs(-2)  # math module function"
      ],
      "metadata": {
        "colab": {
          "base_uri": "https://localhost:8080/"
        },
        "id": "mLM0rv5KdSXM",
        "outputId": "c7d3552c-0d27-45ce-c27c-9124eb00b5a5"
      },
      "execution_count": 74,
      "outputs": [
        {
          "output_type": "execute_result",
          "data": {
            "text/plain": [
              "2.0"
            ]
          },
          "metadata": {},
          "execution_count": 74
        }
      ]
    },
    {
      "cell_type": "code",
      "source": [
        "math.tau # math constant"
      ],
      "metadata": {
        "colab": {
          "base_uri": "https://localhost:8080/"
        },
        "id": "43k6YU6hnENM",
        "outputId": "2ebd0185-04d3-4655-e43f-8026995978a8"
      },
      "execution_count": 81,
      "outputs": [
        {
          "output_type": "execute_result",
          "data": {
            "text/plain": [
              "6.283185307179586"
            ]
          },
          "metadata": {},
          "execution_count": 81
        }
      ]
    },
    {
      "cell_type": "code",
      "source": [
        "abs(-2) # built in Python standard library"
      ],
      "metadata": {
        "colab": {
          "base_uri": "https://localhost:8080/"
        },
        "id": "f1J_GhZmdqFG",
        "outputId": "d16bbfeb-e17c-4fda-fc25-2d00d079489a"
      },
      "execution_count": 11,
      "outputs": [
        {
          "output_type": "execute_result",
          "data": {
            "text/plain": [
              "2"
            ]
          },
          "metadata": {},
          "execution_count": 11
        }
      ]
    },
    {
      "cell_type": "markdown",
      "source": [
        "\n",
        "\n",
        "# Explain what the ceil() function does.\n",
        "\n",
        "# Explain the purpose of the floor() function.\n",
        "\n",
        "# Why are the calls to the floor()  and ceil() functions preceded by \"math.\"?\n",
        "\n",
        "\n"
      ],
      "metadata": {
        "id": "ITrT9UTnZVJ8"
      }
    },
    {
      "cell_type": "code",
      "source": [
        "\n",
        "x = 4.7\n",
        "y = 5.3\n",
        "z = -4.8\n",
        "a = -3.2\n",
        "print(\"x=4.7, xceil = \",math.ceil(x))\n",
        "print(\"y=5.3, yceil = \",math.ceil(y))\n",
        "print(\"z=-4.8, xceil = \",math.ceil(z))\n",
        "print(\"a=-3.2, aceil = \",math.ceil(a))\n",
        "print(\"x=4.7, floor = \",math.floor(x))\n",
        "print(\"y=5.3, floor = \",math.floor(y))\n",
        "print(\"z=-4.8, floor = \",math.floor(z))\n",
        "print(\"a=-3.2, floor = \",math.floor(a))"
      ],
      "metadata": {
        "id": "nuybGc6Gu9Lv",
        "colab": {
          "base_uri": "https://localhost:8080/"
        },
        "outputId": "2211b472-c813-4b32-be9a-6701d12dac58"
      },
      "execution_count": 8,
      "outputs": [
        {
          "output_type": "stream",
          "name": "stdout",
          "text": [
            "x=4.7, xceil =  5\n",
            "y=5.3, yceil =  6\n",
            "z=-4.8, xceil =  -4\n",
            "a=-3.2, aceil =  -3\n",
            "x=4.7, floor =  4\n",
            "y=5.3, floor =  5\n",
            "z=-4.8, floor =  -5\n",
            "a=-3.2, floor =  -4\n"
          ]
        }
      ]
    },
    {
      "cell_type": "code",
      "source": [
        "import random\n"
      ],
      "metadata": {
        "id": "2O0H7N6VY2Te"
      },
      "execution_count": 13,
      "outputs": []
    },
    {
      "cell_type": "code",
      "source": [
        "\n",
        "print(random.randint(1,100))"
      ],
      "metadata": {
        "id": "Q7zdSdARY8Gj",
        "colab": {
          "base_uri": "https://localhost:8080/"
        },
        "outputId": "8b245671-f71a-459b-d25f-d435d4feeb60"
      },
      "execution_count": 90,
      "outputs": [
        {
          "output_type": "stream",
          "name": "stdout",
          "text": [
            "23\n"
          ]
        }
      ]
    },
    {
      "cell_type": "markdown",
      "source": [
        "# Run the program multiple times, and write down the output below.\n",
        "#What is the purpose of \"import random\"? What happens if you omit that line of code?\n",
        "#How could you change the arguments of the randint function to choose a random number within the range of 4 to 10?"
      ],
      "metadata": {
        "id": "vEKlo_seZeTm"
      }
    },
    {
      "cell_type": "code",
      "source": [
        "myNum = random.randint(0,10000)*.0001"
      ],
      "metadata": {
        "id": "h5JOEFYfZqC6"
      },
      "execution_count": 49,
      "outputs": []
    },
    {
      "cell_type": "code",
      "source": [
        "print('My number is %.4f' % myNum)"
      ],
      "metadata": {
        "id": "ltpSfUdsZFej",
        "colab": {
          "base_uri": "https://localhost:8080/"
        },
        "outputId": "684f0a80-5c44-4f6a-deae-69f51b68e942"
      },
      "execution_count": 91,
      "outputs": [
        {
          "output_type": "stream",
          "name": "stdout",
          "text": [
            "My number is 0.3489\n"
          ]
        }
      ]
    },
    {
      "cell_type": "code",
      "source": [
        "random.uniform(0, 1)"
      ],
      "metadata": {
        "colab": {
          "base_uri": "https://localhost:8080/"
        },
        "id": "Xlm_WqV9gL68",
        "outputId": "43abd0dd-ec1d-408a-e3c4-45cd3be9ae20"
      },
      "execution_count": 56,
      "outputs": [
        {
          "output_type": "execute_result",
          "data": {
            "text/plain": [
              "0.5144614478718977"
            ]
          },
          "metadata": {},
          "execution_count": 56
        }
      ]
    },
    {
      "cell_type": "code",
      "source": [
        "def truncate(n, decimals=0):\n",
        "    multiplier = 10 ** decimals\n",
        "    return int(n * multiplier) / multiplier"
      ],
      "metadata": {
        "id": "muVgFf8Lg0RM"
      },
      "execution_count": 58,
      "outputs": []
    },
    {
      "cell_type": "code",
      "source": [
        "truncate(random.uniform(0,1),4)"
      ],
      "metadata": {
        "colab": {
          "base_uri": "https://localhost:8080/"
        },
        "id": "3MyMpdWUgfmi",
        "outputId": "c807e1fe-dd98-4838-c261-393fa9429945"
      },
      "execution_count": 59,
      "outputs": [
        {
          "output_type": "execute_result",
          "data": {
            "text/plain": [
              "0.2963"
            ]
          },
          "metadata": {},
          "execution_count": 59
        }
      ]
    },
    {
      "cell_type": "markdown",
      "source": [
        "# Write you own function"
      ],
      "metadata": {
        "id": "opbt8mpHolvb"
      }
    },
    {
      "cell_type": "code",
      "source": [
        "def my_function(input):    # def function name (input variables): \n",
        "  print(input)                  #instructions\n",
        "  return                        #return"
      ],
      "metadata": {
        "id": "iIdREe05nluP"
      },
      "execution_count": 93,
      "outputs": []
    },
    {
      "cell_type": "code",
      "source": [
        "my_function(x)"
      ],
      "metadata": {
        "colab": {
          "base_uri": "https://localhost:8080/"
        },
        "id": "ExlrkI6jpDCL",
        "outputId": "ce149df0-ff93-4756-cd81-89e2012c4d9c"
      },
      "execution_count": 94,
      "outputs": [
        {
          "output_type": "stream",
          "name": "stdout",
          "text": [
            "4.7\n"
          ]
        }
      ]
    },
    {
      "cell_type": "code",
      "source": [
        "my_function(\"Hello World\")"
      ],
      "metadata": {
        "colab": {
          "base_uri": "https://localhost:8080/"
        },
        "id": "lPcNFrL9pJRG",
        "outputId": "9bfc8367-897c-4967-a97b-b8066b023154"
      },
      "execution_count": 95,
      "outputs": [
        {
          "output_type": "stream",
          "name": "stdout",
          "text": [
            "Hello World\n"
          ]
        }
      ]
    },
    {
      "cell_type": "code",
      "source": [
        "def add_two(x,y):\n",
        "  my_sum = x + y\n",
        "  return my_sum"
      ],
      "metadata": {
        "id": "3FbdQzsWpUoL"
      },
      "execution_count": 96,
      "outputs": []
    },
    {
      "cell_type": "code",
      "source": [
        "sums = add_two(3,5)\n",
        "print(sums)"
      ],
      "metadata": {
        "colab": {
          "base_uri": "https://localhost:8080/"
        },
        "id": "TJUCODmRphap",
        "outputId": "e503a674-2240-42ec-ff2c-67d0a702a726"
      },
      "execution_count": 97,
      "outputs": [
        {
          "output_type": "stream",
          "name": "stdout",
          "text": [
            "8\n"
          ]
        }
      ]
    },
    {
      "cell_type": "code",
      "source": [
        "def printMessage():\n",
        "    print(\"Happy Python Tuesday!\")\n",
        "    print(\"Learn the power of functions!\")"
      ],
      "metadata": {
        "id": "cbSizMJxqBL9"
      },
      "execution_count": 103,
      "outputs": []
    },
    {
      "cell_type": "code",
      "source": [
        "printMessage()"
      ],
      "metadata": {
        "colab": {
          "base_uri": "https://localhost:8080/"
        },
        "id": "t-eGxXN_qDkS",
        "outputId": "ef893f9b-1243-4e4b-c234-80b71258834b"
      },
      "execution_count": 104,
      "outputs": [
        {
          "output_type": "stream",
          "name": "stdout",
          "text": [
            "Happy Python Tuesday!\n",
            "Learn the power of functions!\n"
          ]
        }
      ]
    },
    {
      "cell_type": "code",
      "source": [
        "answer = input(\"What Python keyword is used to indicate that a code segment is a user defined function definition?\\t\")\n",
        "if answer == \"def\":\n",
        "  print(\"Good Job!\")\n",
        "else:\n",
        "  print(\"Try again!\")"
      ],
      "metadata": {
        "colab": {
          "base_uri": "https://localhost:8080/"
        },
        "id": "Nky9tuXbqkZk",
        "outputId": "e32f177d-fa0f-457a-d0e8-dd584cadb7b4"
      },
      "execution_count": 110,
      "outputs": [
        {
          "output_type": "stream",
          "name": "stdout",
          "text": [
            "What Python keyword is used to indicate that a code segment is a user defined function definition?\tDef\n",
            "Try again!\n"
          ]
        }
      ]
    },
    {
      "cell_type": "code",
      "source": [
        "def calculateArea(radius):\n",
        "    area= math.pi * radius **2\n",
        "    print(\"Area of a circle with a radius of\", radius, \"is\",format(area,'.2f'))\n",
        "\n",
        "def main():\n",
        "    radius = int(input(\"Enter the radius: \"))\n",
        "    calculateArea(radius)\n",
        "\n"
      ],
      "metadata": {
        "id": "uuzQKrNgrxUc"
      },
      "execution_count": 112,
      "outputs": []
    },
    {
      "cell_type": "code",
      "source": [
        "main()\n",
        "print(\"Done!\")"
      ],
      "metadata": {
        "colab": {
          "base_uri": "https://localhost:8080/"
        },
        "id": "KGrPc8OKr4uo",
        "outputId": "3f8bd5c7-2caa-4551-bf90-da1b8b8a19d6"
      },
      "execution_count": 113,
      "outputs": [
        {
          "output_type": "stream",
          "name": "stdout",
          "text": [
            "Enter the radius: 4\n",
            "Area of a circle with a radius of 4 is 50.27\n",
            "Done!\n"
          ]
        }
      ]
    },
    {
      "cell_type": "markdown",
      "source": [
        "# The volume of a box is V = Length*Width*height\n",
        "# The surface are of a box with a top is SA = 2*L*W + 2*W*H + 2*L*H\n",
        "# Write two functions one for Volume of a box and one for surface area\n",
        "# Print the results inside the function"
      ],
      "metadata": {
        "id": "BmkIjs2TtHpS"
      }
    },
    {
      "cell_type": "code",
      "source": [
        "def calculate_volume(x,y,z):\n",
        "    # add your code here\n",
        "    print()\n",
        "    return vol"
      ],
      "metadata": {
        "id": "9Q9rLjFOs_Bg"
      },
      "execution_count": 140,
      "outputs": []
    },
    {
      "cell_type": "code",
      "source": [
        "def surfaceArea(x,y,z):\n",
        "  # add your code here\n",
        "  print()\n",
        "  return sA"
      ],
      "metadata": {
        "id": "a2KyMqgauNz4"
      },
      "execution_count": 141,
      "outputs": []
    },
    {
      "cell_type": "code",
      "source": [
        "calculate_volume(x,y,z) # call your funciton"
      ],
      "metadata": {
        "colab": {
          "base_uri": "https://localhost:8080/"
        },
        "id": "yC1E6t2jugDi",
        "outputId": "e1ec7fe8-b4c4-4c1d-fb3f-31791f5f11e3"
      },
      "execution_count": 125,
      "outputs": [
        {
          "output_type": "stream",
          "name": "stdout",
          "text": [
            "\n"
          ]
        }
      ]
    },
    {
      "cell_type": "code",
      "source": [
        "surfaceArea(x,y,z) # call your function; change the input values"
      ],
      "metadata": {
        "colab": {
          "base_uri": "https://localhost:8080/"
        },
        "id": "BfnHWGanuxCw",
        "outputId": "27b13e9c-ef39-4fbc-9e4f-31e3ceb6bec9"
      },
      "execution_count": 121,
      "outputs": [
        {
          "output_type": "stream",
          "name": "stdout",
          "text": [
            "\n"
          ]
        }
      ]
    },
    {
      "cell_type": "code",
      "source": [
        "def calc_box(x,y,z):\n",
        "  Vol = calculate_volume(x,y,z)\n",
        "  areaS = surfaceArea(x,y,z)\n",
        "  print(\"The volume of the box is\", Vol, \"The surface of the box is \", areaS)"
      ],
      "metadata": {
        "id": "WRcOUz_Qvn9C"
      },
      "execution_count": 142,
      "outputs": []
    },
    {
      "cell_type": "code",
      "source": [
        "calc_box(2,3,4)"
      ],
      "metadata": {
        "colab": {
          "base_uri": "https://localhost:8080/"
        },
        "id": "7eX_l9NWwxXX",
        "outputId": "8263da1b-d279-4758-84d5-36105bac94aa"
      },
      "execution_count": 139,
      "outputs": [
        {
          "output_type": "stream",
          "name": "stdout",
          "text": [
            "\n",
            "\n",
            "The volume of the box is None The surface of the box is  None\n"
          ]
        }
      ]
    },
    {
      "cell_type": "markdown",
      "source": [
        "# While statements\n"
      ],
      "metadata": {
        "id": "FNOseqSuxc0y"
      }
    },
    {
      "cell_type": "code",
      "source": [
        "x = 0\n",
        "while x < 10:\n",
        "  x = x + 1\n",
        "  print(x)\n"
      ],
      "metadata": {
        "colab": {
          "base_uri": "https://localhost:8080/"
        },
        "id": "hq8HCFISxge5",
        "outputId": "2fba54fb-7e71-4c51-9acc-abab4a88d516"
      },
      "execution_count": 143,
      "outputs": [
        {
          "output_type": "stream",
          "name": "stdout",
          "text": [
            "1\n",
            "2\n",
            "3\n",
            "4\n",
            "5\n",
            "6\n",
            "7\n",
            "8\n",
            "9\n",
            "10\n"
          ]
        }
      ]
    },
    {
      "cell_type": "code",
      "source": [
        "x = 0\n",
        "while x < 10:\n",
        "  print(x)\n",
        "  x = x + 1\n",
        "  \n"
      ],
      "metadata": {
        "colab": {
          "base_uri": "https://localhost:8080/"
        },
        "id": "4sSQIOqnx2X4",
        "outputId": "ec52c6ce-6081-4be0-c280-dc9b791df834"
      },
      "execution_count": 145,
      "outputs": [
        {
          "output_type": "stream",
          "name": "stdout",
          "text": [
            "0\n",
            "1\n",
            "2\n",
            "3\n",
            "4\n",
            "5\n",
            "6\n",
            "7\n",
            "8\n",
            "9\n"
          ]
        }
      ]
    },
    {
      "cell_type": "code",
      "source": [
        "i = 1\n",
        "while i < 6:\n",
        "  print(i)\n",
        "  i += 1    # += means and 1 to i"
      ],
      "metadata": {
        "colab": {
          "base_uri": "https://localhost:8080/"
        },
        "id": "Ryd7X4zoyIcX",
        "outputId": "04abaa5a-e327-49a5-cf27-2fc4a6299c36"
      },
      "execution_count": 146,
      "outputs": [
        {
          "output_type": "stream",
          "name": "stdout",
          "text": [
            "1\n",
            "2\n",
            "3\n",
            "4\n",
            "5\n"
          ]
        }
      ]
    },
    {
      "cell_type": "code",
      "source": [
        "i = 1\n",
        "while i < 6:\n",
        "  print(i)\n",
        "  if i == 3:\n",
        "    break\n",
        "  i += 1"
      ],
      "metadata": {
        "colab": {
          "base_uri": "https://localhost:8080/"
        },
        "id": "wLwn4EdLyjKj",
        "outputId": "b530dd34-ad2f-407a-e417-7654da0499ad"
      },
      "execution_count": 147,
      "outputs": [
        {
          "output_type": "stream",
          "name": "stdout",
          "text": [
            "1\n",
            "2\n",
            "3\n"
          ]
        }
      ]
    },
    {
      "cell_type": "code",
      "source": [
        "i = 1\n",
        "while i < 6:\n",
        "  print(i)\n",
        "  i += 1\n",
        "else:\n",
        "  print(\"i is no longer less than 6\")\n",
        "    \n",
        " \n",
        " "
      ],
      "metadata": {
        "colab": {
          "base_uri": "https://localhost:8080/"
        },
        "id": "_eOQpRarywbq",
        "outputId": "6bd2268c-e07f-4c45-d413-e2584fae8bcf"
      },
      "execution_count": 161,
      "outputs": [
        {
          "output_type": "stream",
          "name": "stdout",
          "text": [
            "1\n",
            "2\n",
            "3\n",
            "4\n",
            "5\n",
            "i is no longer less than 6\n"
          ]
        }
      ]
    },
    {
      "cell_type": "code",
      "source": [
        "# checks if list still\n",
        "# contains any element\n",
        "a = [1, 2, 3, 4]\n",
        "  \n",
        "while a:\n",
        "    print(a.pop())\n",
        "\n"
      ],
      "metadata": {
        "colab": {
          "base_uri": "https://localhost:8080/"
        },
        "id": "TicU3j0Z13Xx",
        "outputId": "e5b234a7-34ba-4ca9-baba-e08b5aa0a6eb"
      },
      "execution_count": 164,
      "outputs": [
        {
          "output_type": "stream",
          "name": "stdout",
          "text": [
            "4\n",
            "3\n",
            "2\n",
            "1\n"
          ]
        }
      ]
    },
    {
      "cell_type": "code",
      "source": [
        "# Python program to illustrate \n",
        "# Single statement while block \n",
        "count = 0\n",
        "while (count < 5): count += 1; print(\"Hello There!\")"
      ],
      "metadata": {
        "colab": {
          "base_uri": "https://localhost:8080/"
        },
        "id": "C3pG4S2i2INm",
        "outputId": "4fbfd956-c645-42c9-b037-de421894dd7e"
      },
      "execution_count": 166,
      "outputs": [
        {
          "output_type": "stream",
          "name": "stdout",
          "text": [
            "Hello There!\n",
            "Hello There!\n",
            "Hello There!\n",
            "Hello There!\n",
            "Hello There!\n"
          ]
        }
      ]
    },
    {
      "cell_type": "code",
      "source": [
        "# Prints all letters \n",
        "i = 0\n",
        "a = 'I love to code!'\n",
        "  \n",
        "while i < len(a):      \n",
        "    print('Current Letter :', a[i])\n",
        "    i += 1"
      ],
      "metadata": {
        "colab": {
          "base_uri": "https://localhost:8080/"
        },
        "id": "zMS-7Xzk2Jrc",
        "outputId": "6a0eccc7-1d92-4800-edef-3f55c9a4ad93"
      },
      "execution_count": 167,
      "outputs": [
        {
          "output_type": "stream",
          "name": "stdout",
          "text": [
            "Current Letter : I\n",
            "Current Letter :  \n",
            "Current Letter : l\n",
            "Current Letter : o\n",
            "Current Letter : v\n",
            "Current Letter : e\n",
            "Current Letter :  \n",
            "Current Letter : t\n",
            "Current Letter : o\n",
            "Current Letter :  \n",
            "Current Letter : c\n",
            "Current Letter : o\n",
            "Current Letter : d\n",
            "Current Letter : e\n",
            "Current Letter : !\n"
          ]
        }
      ]
    },
    {
      "cell_type": "code",
      "source": [
        "# Prints all letters except 'e' and 's'\n",
        "i = 0\n",
        "a = 'Love Coding'\n",
        "  \n",
        "while i < len(a):\n",
        "    if a[i] == 'e' or a[i] == 'g':\n",
        "        i += 1\n",
        "        continue\n",
        "          \n",
        "    print('Current Letter :', a[i])\n",
        "    i += 1"
      ],
      "metadata": {
        "colab": {
          "base_uri": "https://localhost:8080/"
        },
        "id": "gMXuXSR02vbu",
        "outputId": "1b1d630a-bc04-466b-9f2e-08155e0f5ec2"
      },
      "execution_count": 168,
      "outputs": [
        {
          "output_type": "stream",
          "name": "stdout",
          "text": [
            "Current Letter : L\n",
            "Current Letter : o\n",
            "Current Letter : v\n",
            "Current Letter :  \n",
            "Current Letter : C\n",
            "Current Letter : o\n",
            "Current Letter : d\n",
            "Current Letter : i\n",
            "Current Letter : n\n"
          ]
        }
      ]
    },
    {
      "cell_type": "code",
      "source": [
        "# break the loop as soon it sees 'e'\n",
        "# or 's'\n",
        "i = 0\n",
        "a = 'LoveCodinginPython'\n",
        "  \n",
        "while i < len(a):\n",
        "    if a[i] == 'C' or a[i] == 'P':\n",
        "        i += 1\n",
        "        break\n",
        "          \n",
        "    print('Current Letter :', a[i])\n",
        "    i += 1"
      ],
      "metadata": {
        "colab": {
          "base_uri": "https://localhost:8080/"
        },
        "id": "DcfEYbna276p",
        "outputId": "efb48234-dec1-44c8-823b-47b4dfcb324a"
      },
      "execution_count": 169,
      "outputs": [
        {
          "output_type": "stream",
          "name": "stdout",
          "text": [
            "Current Letter : L\n",
            "Current Letter : o\n",
            "Current Letter : v\n",
            "Current Letter : e\n"
          ]
        }
      ]
    },
    {
      "cell_type": "code",
      "source": [
        "# Python program to demonstrate\n",
        "# while-else loop\n",
        "  \n",
        "i = 0\n",
        "while i < 4:\n",
        "    i += 1\n",
        "    print(i)\n",
        "else:  # Executed because no break in for\n",
        "    print(\"No Break\\n\")\n",
        "  \n",
        "i = 0\n",
        "while i < 4:\n",
        "    i += 1\n",
        "    print(i)\n",
        "    break\n",
        "else:  # Not executed as there is a break\n",
        "    print(\"No Break\")"
      ],
      "metadata": {
        "colab": {
          "base_uri": "https://localhost:8080/"
        },
        "id": "5arkRgPT3Zww",
        "outputId": "f5996886-f5bf-43cb-9def-6bd908e339d9"
      },
      "execution_count": 170,
      "outputs": [
        {
          "output_type": "stream",
          "name": "stdout",
          "text": [
            "1\n",
            "2\n",
            "3\n",
            "4\n",
            "No Break\n",
            "\n",
            "1\n"
          ]
        }
      ]
    },
    {
      "cell_type": "code",
      "source": [
        "a = int(input('Enter a number (-1 to quit): '))\n",
        "  \n",
        "while a != -1:\n",
        "    a = int(input('Enter a number (-1 to quit): '))"
      ],
      "metadata": {
        "colab": {
          "base_uri": "https://localhost:8080/"
        },
        "id": "JTRjTtVy30Y4",
        "outputId": "d64381b3-52ba-4a0a-8c93-48acc54c93a8"
      },
      "execution_count": 173,
      "outputs": [
        {
          "name": "stdout",
          "output_type": "stream",
          "text": [
            "Enter a number (-1 to quit): -1\n"
          ]
        }
      ]
    },
    {
      "cell_type": "code",
      "source": [
        "def run_inputnumber(x):\n",
        "  \n",
        "  while x != -1:\n",
        "    x = int(input('Enter a number (-1 to quit): '))"
      ],
      "metadata": {
        "id": "xhh1-IfB37-A"
      },
      "execution_count": 174,
      "outputs": []
    },
    {
      "cell_type": "code",
      "source": [
        "i = 0\n",
        "run_inputnumber(int(input('Enter a number (-1 to quit): ')))"
      ],
      "metadata": {
        "colab": {
          "base_uri": "https://localhost:8080/"
        },
        "id": "i2Bc5Hij4abm",
        "outputId": "5a5f27c5-5b1f-4398-d571-8152d4756519"
      },
      "execution_count": 176,
      "outputs": [
        {
          "name": "stdout",
          "output_type": "stream",
          "text": [
            "Enter a number (-1 to quit): 3\n",
            "Enter a number (-1 to quit): 7\n",
            "Enter a number (-1 to quit): -2\n",
            "Enter a number (-1 to quit): -1\n"
          ]
        }
      ]
    }
  ]
}