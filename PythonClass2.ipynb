{
  "nbformat": 4,
  "nbformat_minor": 0,
  "metadata": {
    "colab": {
      "provenance": [],
      "collapsed_sections": [],
      "authorship_tag": "ABX9TyOwVj787dR3PFcJFA6Wx4Xy",
      "include_colab_link": true
    },
    "kernelspec": {
      "name": "python3",
      "display_name": "Python 3"
    },
    "language_info": {
      "name": "python"
    }
  },
  "cells": [
    {
      "cell_type": "markdown",
      "metadata": {
        "id": "view-in-github",
        "colab_type": "text"
      },
      "source": [
        "<a href=\"https://colab.research.google.com/github/cynthialmcginnis/CMIS/blob/main/PythonClass2.ipynb\" target=\"_parent\"><img src=\"https://colab.research.google.com/assets/colab-badge.svg\" alt=\"Open In Colab\"/></a>"
      ]
    },
    {
      "cell_type": "code",
      "execution_count": null,
      "metadata": {
        "id": "9Ew0pYCSgC88"
      },
      "outputs": [],
      "source": [
        "## \"Functions in Python\"\n",
        "\n",
        "## A function is a named sequence of steps\n",
        "\n"
      ]
    },
    {
      "cell_type": "code",
      "source": [
        "print(\"https://docs.python.org\")\n",
        "print(\"https://docs.python.org/3/library/index.html\")"
      ],
      "metadata": {
        "colab": {
          "base_uri": "https://localhost:8080/"
        },
        "id": "yOFpF7b5ieUP",
        "outputId": "8f0a5a8d-3370-4f07-a1b0-227c5a30e3a4"
      },
      "execution_count": null,
      "outputs": [
        {
          "output_type": "stream",
          "name": "stdout",
          "text": [
            "https://docs.python.org\n",
            "https://docs.python.org/3/library/index.html\n"
          ]
        }
      ]
    },
    {
      "cell_type": "code",
      "source": [
        "pip install fontstyle # Loading a premade package"
      ],
      "metadata": {
        "id": "ldSjKpV1sbdZ",
        "colab": {
          "base_uri": "https://localhost:8080/"
        },
        "outputId": "de8d4c26-631b-4565-bccf-8515c5be5221"
      },
      "execution_count": null,
      "outputs": [
        {
          "output_type": "stream",
          "name": "stdout",
          "text": [
            "Looking in indexes: https://pypi.org/simple, https://us-python.pkg.dev/colab-wheels/public/simple/\n",
            "Collecting fontstyle\n",
            "  Downloading fontstyle-1.0.1.2.tar.gz (6.0 kB)\n",
            "Requirement already satisfied: setuptools in /usr/local/lib/python3.7/dist-packages (from fontstyle) (57.4.0)\n",
            "Building wheels for collected packages: fontstyle\n",
            "  Building wheel for fontstyle (setup.py) ... \u001b[?25l\u001b[?25hdone\n",
            "  Created wheel for fontstyle: filename=fontstyle-1.0.1.2-py3-none-any.whl size=6412 sha256=a81a465951d53f208807895a2e0005eaa0d64c3f139fce5caea554bfb418a85b\n",
            "  Stored in directory: /root/.cache/pip/wheels/1d/ae/ac/e341692c5fc6af1e5eb72817d729d0bb451588e422e07a949d\n",
            "Successfully built fontstyle\n",
            "Installing collected packages: fontstyle\n",
            "Successfully installed fontstyle-1.0.1.2\n"
          ]
        }
      ]
    },
    {
      "cell_type": "markdown",
      "source": [
        "# Sometimes terminal text can be hard to read, the fontstyle module is package hosted on pypi.org for manipulating text. It can be used to break up the noise with some additional formatting, add colors, font weights and other styles to make it more readable"
      ],
      "metadata": {
        "id": "PNLnW3Melqfk"
      }
    },
    {
      "cell_type": "code",
      "source": [
        "# import module\n",
        "import fontstyle\n",
        " \n",
        "# format text\n",
        "text = fontstyle.apply('Functions in Python', 'bold/Italic/red/YELLOW_BG') ## Using a predefined funtion\n",
        " \n",
        "# display text\n",
        "print(text)\n"
      ],
      "metadata": {
        "id": "WL0Bh2HUsho7",
        "colab": {
          "base_uri": "https://localhost:8080/"
        },
        "outputId": "abaac0df-aa3f-45b7-9760-cde2a6069aa1"
      },
      "execution_count": null,
      "outputs": [
        {
          "output_type": "stream",
          "name": "stdout",
          "text": [
            "\u001b[1m\u001b[3m\u001b[91m\u001b[43mFunctions in Python\u001b[0m\n"
          ]
        }
      ]
    },
    {
      "cell_type": "code",
      "source": [
        "dir(fontstyle)"
      ],
      "metadata": {
        "colab": {
          "base_uri": "https://localhost:8080/"
        },
        "id": "74VMvj1-lXVi",
        "outputId": "8396a54c-affd-4ac9-9a68-051b4df3a57c"
      },
      "execution_count": null,
      "outputs": [
        {
          "output_type": "execute_result",
          "data": {
            "text/plain": [
              "['BEAUTIFICATION',\n",
              " 'COLORS',\n",
              " 'ESCAPES',\n",
              " 'FORMATTING',\n",
              " 'STRSET',\n",
              " 'STRSTYLE',\n",
              " 'STYLES',\n",
              " '__ansi_reference__',\n",
              " '__author__',\n",
              " '__builtins__',\n",
              " '__cached__',\n",
              " '__description__',\n",
              " '__doc__',\n",
              " '__email__',\n",
              " '__file__',\n",
              " '__license__',\n",
              " '__loader__',\n",
              " '__long_description__',\n",
              " '__name__',\n",
              " '__package__',\n",
              " '__path__',\n",
              " '__source__',\n",
              " '__spec__',\n",
              " '__version__',\n",
              " 'apply',\n",
              " 'contains',\n",
              " 'core',\n",
              " 'erase',\n",
              " 'escapes',\n",
              " 'normalize',\n",
              " 'numbers',\n",
              " 'options',\n",
              " 'patternize',\n",
              " 'preserve',\n",
              " 'prettify',\n",
              " 'pretty',\n",
              " 'strip',\n",
              " 'uglify',\n",
              " 'ugly']"
            ]
          },
          "metadata": {},
          "execution_count": 9
        }
      ]
    },
    {
      "cell_type": "code",
      "source": [
        "print(\"https://docs.python.org/3/library/math.html#\")"
      ],
      "metadata": {
        "colab": {
          "base_uri": "https://localhost:8080/"
        },
        "id": "V448XmiFjh6h",
        "outputId": "83d6b23c-e1f9-4e22-9121-5ca674099f2a"
      },
      "execution_count": null,
      "outputs": [
        {
          "output_type": "stream",
          "name": "stdout",
          "text": [
            "https://docs.python.org/3/library/math.html#\n"
          ]
        }
      ]
    },
    {
      "cell_type": "code",
      "source": [
        "## PreDefined Packages\n",
        "import math\n"
      ],
      "metadata": {
        "id": "IA1H24uNuYpi"
      },
      "execution_count": null,
      "outputs": []
    },
    {
      "cell_type": "code",
      "source": [
        "dir(math)"
      ],
      "metadata": {
        "colab": {
          "base_uri": "https://localhost:8080/"
        },
        "id": "McbqfV0KmkmB",
        "outputId": "12c5da98-7978-4a86-b27a-6d6c985c68da"
      },
      "execution_count": null,
      "outputs": [
        {
          "output_type": "execute_result",
          "data": {
            "text/plain": [
              "['__doc__',\n",
              " '__loader__',\n",
              " '__name__',\n",
              " '__package__',\n",
              " '__spec__',\n",
              " 'acos',\n",
              " 'acosh',\n",
              " 'asin',\n",
              " 'asinh',\n",
              " 'atan',\n",
              " 'atan2',\n",
              " 'atanh',\n",
              " 'ceil',\n",
              " 'copysign',\n",
              " 'cos',\n",
              " 'cosh',\n",
              " 'degrees',\n",
              " 'e',\n",
              " 'erf',\n",
              " 'erfc',\n",
              " 'exp',\n",
              " 'expm1',\n",
              " 'fabs',\n",
              " 'factorial',\n",
              " 'floor',\n",
              " 'fmod',\n",
              " 'frexp',\n",
              " 'fsum',\n",
              " 'gamma',\n",
              " 'gcd',\n",
              " 'hypot',\n",
              " 'inf',\n",
              " 'isclose',\n",
              " 'isfinite',\n",
              " 'isinf',\n",
              " 'isnan',\n",
              " 'ldexp',\n",
              " 'lgamma',\n",
              " 'log',\n",
              " 'log10',\n",
              " 'log1p',\n",
              " 'log2',\n",
              " 'modf',\n",
              " 'nan',\n",
              " 'pi',\n",
              " 'pow',\n",
              " 'radians',\n",
              " 'remainder',\n",
              " 'sin',\n",
              " 'sinh',\n",
              " 'sqrt',\n",
              " 'tan',\n",
              " 'tanh',\n",
              " 'tau',\n",
              " 'trunc']"
            ]
          },
          "metadata": {},
          "execution_count": 12
        }
      ]
    },
    {
      "cell_type": "code",
      "source": [
        "math.fabs(-2)  # math module function"
      ],
      "metadata": {
        "colab": {
          "base_uri": "https://localhost:8080/"
        },
        "id": "mLM0rv5KdSXM",
        "outputId": "54f49111-26a3-433a-bb56-780dd2593556"
      },
      "execution_count": null,
      "outputs": [
        {
          "output_type": "execute_result",
          "data": {
            "text/plain": [
              "2.0"
            ]
          },
          "metadata": {},
          "execution_count": 13
        }
      ]
    },
    {
      "cell_type": "code",
      "source": [
        "math.tau # math constant"
      ],
      "metadata": {
        "colab": {
          "base_uri": "https://localhost:8080/"
        },
        "id": "43k6YU6hnENM",
        "outputId": "0406919b-7980-46e3-c684-723589ba55a9"
      },
      "execution_count": null,
      "outputs": [
        {
          "output_type": "execute_result",
          "data": {
            "text/plain": [
              "6.283185307179586"
            ]
          },
          "metadata": {},
          "execution_count": 14
        }
      ]
    },
    {
      "cell_type": "code",
      "source": [
        "abs(-2) # built in Python standard library"
      ],
      "metadata": {
        "colab": {
          "base_uri": "https://localhost:8080/"
        },
        "id": "f1J_GhZmdqFG",
        "outputId": "4e13d412-9e43-428c-c8fc-d74378c86be7"
      },
      "execution_count": null,
      "outputs": [
        {
          "output_type": "execute_result",
          "data": {
            "text/plain": [
              "2"
            ]
          },
          "metadata": {},
          "execution_count": 15
        }
      ]
    },
    {
      "cell_type": "markdown",
      "source": [
        "\n",
        "\n",
        "# Explain what the ceil() function does.\n",
        "\n",
        "# Explain the purpose of the floor() function.\n",
        "\n",
        "# Why are the calls to the floor()  and ceil() functions preceded by \"math.\"?\n",
        "\n",
        "\n"
      ],
      "metadata": {
        "id": "ITrT9UTnZVJ8"
      }
    },
    {
      "cell_type": "code",
      "source": [
        "\n",
        "x = 4.7\n",
        "y = 5.3\n",
        "z = -4.8\n",
        "a = -3.2\n",
        "print(\"x=4.7, xceil = \",math.ceil(x))\n",
        "print(\"y=5.3, yceil = \",math.ceil(y))\n",
        "print(\"z=-4.8, xceil = \",math.ceil(z))\n",
        "print(\"a=-3.2, aceil = \",math.ceil(a))\n",
        "print(\"x=4.7, floor = \",math.floor(x))\n",
        "print(\"y=5.3, floor = \",math.floor(y))\n",
        "print(\"z=-4.8, floor = \",math.floor(z))\n",
        "print(\"a=-3.2, floor = \",math.floor(a))"
      ],
      "metadata": {
        "id": "nuybGc6Gu9Lv",
        "colab": {
          "base_uri": "https://localhost:8080/"
        },
        "outputId": "db1a13c1-b578-40ff-fb02-0238718963cf"
      },
      "execution_count": null,
      "outputs": [
        {
          "output_type": "stream",
          "name": "stdout",
          "text": [
            "x=4.7, xceil =  5\n",
            "y=5.3, yceil =  6\n",
            "z=-4.8, xceil =  -4\n",
            "a=-3.2, aceil =  -3\n",
            "x=4.7, floor =  4\n",
            "y=5.3, floor =  5\n",
            "z=-4.8, floor =  -5\n",
            "a=-3.2, floor =  -4\n"
          ]
        }
      ]
    },
    {
      "cell_type": "code",
      "source": [
        "# For the following Questions type T for True and F for false\n",
        "answer = input(\"Ceil rounds a number down.\\t\")\n",
        "if answer == \"F\":\n",
        "  print(\"You are correct!\")\n",
        "else: print(\"Sorry, ceil rounds a number up\")\n",
        "\n",
        "answer = input(\"floor truncates the decimal.\")\n",
        "if answer == \"T\":\n",
        "  print(\"You are correct!\")\n",
        "else: print(\"Sorry, ceil rounds a number up\")"
      ],
      "metadata": {
        "colab": {
          "base_uri": "https://localhost:8080/"
        },
        "id": "K4pUrCCC3AX4",
        "outputId": "9b2d2ffc-90f1-410e-c416-3a3d1a0703cc"
      },
      "execution_count": null,
      "outputs": [
        {
          "output_type": "stream",
          "name": "stdout",
          "text": [
            "Ceil rounds a number down.\tF\n",
            "You are correct!\n",
            "floor truncates the decimal.T\n",
            "You are correct!\n"
          ]
        }
      ]
    },
    {
      "cell_type": "code",
      "source": [
        "print(\"https://docs.python.org/3/library/random.html\")"
      ],
      "metadata": {
        "colab": {
          "base_uri": "https://localhost:8080/"
        },
        "id": "czsJ8qYt9ONC",
        "outputId": "a54c052d-02df-4057-c645-c68084641363"
      },
      "execution_count": null,
      "outputs": [
        {
          "output_type": "stream",
          "name": "stdout",
          "text": [
            "https://docs.python.org/3/library/random.html\n"
          ]
        }
      ]
    },
    {
      "cell_type": "code",
      "source": [
        "import random  #What is the purpose of \"import random\"? What happens if you omit that line of code?\n"
      ],
      "metadata": {
        "id": "2O0H7N6VY2Te"
      },
      "execution_count": null,
      "outputs": []
    },
    {
      "cell_type": "code",
      "source": [
        "\n",
        "print(random.randint(1,100))   #Run the program multiple times, and write down the output"
      ],
      "metadata": {
        "id": "Q7zdSdARY8Gj",
        "colab": {
          "base_uri": "https://localhost:8080/"
        },
        "outputId": "e3a513c5-16f4-4c72-ae61-8c616c4a5e27"
      },
      "execution_count": null,
      "outputs": [
        {
          "output_type": "stream",
          "name": "stdout",
          "text": [
            "62\n"
          ]
        }
      ]
    },
    {
      "cell_type": "code",
      "source": [
        "i = 0\n",
        "for i in range(4):\n",
        "  print(random.randint(1,100)*0.1)"
      ],
      "metadata": {
        "colab": {
          "base_uri": "https://localhost:8080/"
        },
        "id": "h3r08jf2FMkH",
        "outputId": "73faaeb1-b15e-4512-98f0-cdddefeb05bd"
      },
      "execution_count": null,
      "outputs": [
        {
          "output_type": "stream",
          "name": "stdout",
          "text": [
            "4.6000000000000005\n",
            "9.8\n",
            "2.9000000000000004\n",
            "2.9000000000000004\n"
          ]
        }
      ]
    },
    {
      "cell_type": "markdown",
      "source": [
        "\n",
        "#How could you change the arguments of the randint function to choose a random number within the range of 4 to 10?"
      ],
      "metadata": {
        "id": "vEKlo_seZeTm"
      }
    },
    {
      "cell_type": "code",
      "source": [
        "#Write a for loop that prints a random number from 0 to 20 8 times and prints each number as a floating point number\n",
        "\n"
      ],
      "metadata": {
        "id": "e2UsEpUZF_SX"
      },
      "execution_count": null,
      "outputs": []
    },
    {
      "cell_type": "code",
      "source": [
        "myNum = random.randint(0,100)/9\n",
        "print('My number is %.4f' % myNum) # String formatting %.4f rounds to 4 decimal places"
      ],
      "metadata": {
        "id": "h5JOEFYfZqC6",
        "colab": {
          "base_uri": "https://localhost:8080/"
        },
        "outputId": "cdfa4dec-7ebe-4930-e6ec-756a1c5a60e3"
      },
      "execution_count": null,
      "outputs": [
        {
          "output_type": "stream",
          "name": "stdout",
          "text": [
            "My number is 7.6667\n"
          ]
        }
      ]
    },
    {
      "cell_type": "code",
      "source": [
        "myNum = random.randint(0,100)/7\n",
        "print('My number is ', round(myNum, 6)) # round(number, number of decimals)"
      ],
      "metadata": {
        "id": "ltpSfUdsZFej",
        "colab": {
          "base_uri": "https://localhost:8080/"
        },
        "outputId": "b6babfa8-abc8-4760-8ebd-61c3efca9ab1"
      },
      "execution_count": null,
      "outputs": [
        {
          "output_type": "stream",
          "name": "stdout",
          "text": [
            "My number is  13.714286\n"
          ]
        }
      ]
    },
    {
      "cell_type": "code",
      "source": [
        "random.uniform(0, 1)  #random.uniform(a, b)\n",
        "                      #Return a random floating point number N such that a <= N <= b for a <= b and b <= N <= a for b < a.\n",
        "\n"
      ],
      "metadata": {
        "colab": {
          "base_uri": "https://localhost:8080/"
        },
        "id": "Xlm_WqV9gL68",
        "outputId": "c2b85219-017b-483a-f6d9-11b8ee8c5e52"
      },
      "execution_count": null,
      "outputs": [
        {
          "output_type": "execute_result",
          "data": {
            "text/plain": [
              "0.7982955002820034"
            ]
          },
          "metadata": {},
          "execution_count": 55
        }
      ]
    },
    {
      "cell_type": "code",
      "source": [
        "round(random.uniform(0,100),4)"
      ],
      "metadata": {
        "colab": {
          "base_uri": "https://localhost:8080/"
        },
        "id": "1TnZfmzBGfio",
        "outputId": "720a16a5-0a94-43e2-8688-133df90641bc"
      },
      "execution_count": null,
      "outputs": [
        {
          "output_type": "execute_result",
          "data": {
            "text/plain": [
              "91.7688"
            ]
          },
          "metadata": {},
          "execution_count": 100
        }
      ]
    },
    {
      "cell_type": "markdown",
      "source": [
        "# Write you own function"
      ],
      "metadata": {
        "id": "opbt8mpHolvb"
      }
    },
    {
      "cell_type": "code",
      "source": [
        "def my_function(input):    # def function name (input variables): \n",
        "  print(input)                  #instructions\n",
        "  return                        #return"
      ],
      "metadata": {
        "id": "iIdREe05nluP"
      },
      "execution_count": null,
      "outputs": []
    },
    {
      "cell_type": "code",
      "source": [
        "my_function(x)"
      ],
      "metadata": {
        "colab": {
          "base_uri": "https://localhost:8080/"
        },
        "id": "ExlrkI6jpDCL",
        "outputId": "23f618dd-9681-4da2-eb08-ddbff70a5252"
      },
      "execution_count": null,
      "outputs": [
        {
          "output_type": "stream",
          "name": "stdout",
          "text": [
            "4.7\n"
          ]
        }
      ]
    },
    {
      "cell_type": "code",
      "source": [
        "my_function(\"Hello World\")"
      ],
      "metadata": {
        "colab": {
          "base_uri": "https://localhost:8080/"
        },
        "id": "lPcNFrL9pJRG",
        "outputId": "cca67166-3365-42d0-f7c6-cb9dadd2b1bf"
      },
      "execution_count": null,
      "outputs": [
        {
          "output_type": "stream",
          "name": "stdout",
          "text": [
            "Hello World\n"
          ]
        }
      ]
    },
    {
      "cell_type": "code",
      "source": [
        "def add_two(x,y):\n",
        "  my_sum = x + y\n",
        "  return my_sum"
      ],
      "metadata": {
        "id": "3FbdQzsWpUoL"
      },
      "execution_count": null,
      "outputs": []
    },
    {
      "cell_type": "code",
      "source": [
        "sums = add_two(3,5)\n",
        "print(sums)"
      ],
      "metadata": {
        "colab": {
          "base_uri": "https://localhost:8080/"
        },
        "id": "TJUCODmRphap",
        "outputId": "8736bef9-9d0a-45f2-f84e-df7def35db1b"
      },
      "execution_count": null,
      "outputs": [
        {
          "output_type": "stream",
          "name": "stdout",
          "text": [
            "8\n"
          ]
        }
      ]
    },
    {
      "cell_type": "code",
      "source": [
        "def printMessage():\n",
        "    print(\"Happy Python Tuesday!\")\n",
        "    print(\"Learn the power of functions!\")"
      ],
      "metadata": {
        "id": "cbSizMJxqBL9"
      },
      "execution_count": null,
      "outputs": []
    },
    {
      "cell_type": "code",
      "source": [
        "printMessage()"
      ],
      "metadata": {
        "colab": {
          "base_uri": "https://localhost:8080/"
        },
        "id": "t-eGxXN_qDkS",
        "outputId": "d9827d42-5e4b-4be2-cb59-4c24fa3720e0"
      },
      "execution_count": null,
      "outputs": [
        {
          "output_type": "stream",
          "name": "stdout",
          "text": [
            "Happy Python Tuesday!\n",
            "Learn the power of functions!\n"
          ]
        }
      ]
    },
    {
      "cell_type": "code",
      "source": [
        "answer = input(\"What Python keyword is used to indicate that a code segment is a user defined function definition?\\t\")\n",
        "if answer == \"def\":\n",
        "  print(\"Good Job!\")\n",
        "else:\n",
        "  print(\"Try again!\")"
      ],
      "metadata": {
        "colab": {
          "base_uri": "https://localhost:8080/"
        },
        "id": "Nky9tuXbqkZk",
        "outputId": "c887dece-0231-40d4-af09-54d8fda811db"
      },
      "execution_count": null,
      "outputs": [
        {
          "output_type": "stream",
          "name": "stdout",
          "text": [
            "What Python keyword is used to indicate that a code segment is a user defined function definition?\tdef\n",
            "Good Job!\n"
          ]
        }
      ]
    },
    {
      "cell_type": "code",
      "source": [
        "def calculateArea(radius):\n",
        "    area= math.pi * radius **2\n",
        "    print(\"Area of a circle with a radius of\", radius, \"is\",format(area,'.2f'))\n",
        "\n",
        "\n",
        "\n"
      ],
      "metadata": {
        "id": "uuzQKrNgrxUc"
      },
      "execution_count": null,
      "outputs": []
    },
    {
      "cell_type": "code",
      "source": [
        "def main():\n",
        "    radius = int(input(\"Enter the radius: \"))\n",
        "    calculateArea(radius)"
      ],
      "metadata": {
        "id": "dLfkIAiBHSlW"
      },
      "execution_count": null,
      "outputs": []
    },
    {
      "cell_type": "code",
      "source": [
        "main()\n",
        "print(\"Done!\")"
      ],
      "metadata": {
        "colab": {
          "base_uri": "https://localhost:8080/"
        },
        "id": "KGrPc8OKr4uo",
        "outputId": "e65c1033-1a2b-4be4-9059-8a59eca416f1"
      },
      "execution_count": null,
      "outputs": [
        {
          "output_type": "stream",
          "name": "stdout",
          "text": [
            "Enter the radius: 4\n",
            "Area of a circle with a radius of 4 is 50.27\n",
            "Done!\n"
          ]
        }
      ]
    },
    {
      "cell_type": "markdown",
      "source": [
        "# The volume of a box is V = Length*Width*height\n",
        "# The surface are of a box with a top is SA = 2*L*W + 2*W*H + 2*L*H\n",
        "# Write two functions one for Volume of a box and one for surface area\n",
        "# Print the results inside the function"
      ],
      "metadata": {
        "id": "BmkIjs2TtHpS"
      }
    },
    {
      "cell_type": "code",
      "source": [
        "def calculate_volume(x,y,z):\n",
        "    vol = 1 # add your code here\n",
        "    print()\n",
        "    return vol"
      ],
      "metadata": {
        "id": "9Q9rLjFOs_Bg"
      },
      "execution_count": null,
      "outputs": []
    },
    {
      "cell_type": "code",
      "source": [
        "def surfaceArea(x,y,z):\n",
        "  sA = 1 # add your code here\n",
        "  print()\n",
        "  return sA"
      ],
      "metadata": {
        "id": "a2KyMqgauNz4"
      },
      "execution_count": null,
      "outputs": []
    },
    {
      "cell_type": "code",
      "source": [
        "calculate_volume(x,y,z) # call your funciton"
      ],
      "metadata": {
        "colab": {
          "base_uri": "https://localhost:8080/"
        },
        "id": "yC1E6t2jugDi",
        "outputId": "10b130bb-24c0-47d8-e3a8-8ed2bdd43b95"
      },
      "execution_count": null,
      "outputs": [
        {
          "output_type": "stream",
          "name": "stdout",
          "text": [
            "\n"
          ]
        },
        {
          "output_type": "execute_result",
          "data": {
            "text/plain": [
              "1"
            ]
          },
          "metadata": {},
          "execution_count": 66
        }
      ]
    },
    {
      "cell_type": "code",
      "source": [
        "surfaceArea(x,y,z) # call your function; change the input values"
      ],
      "metadata": {
        "colab": {
          "base_uri": "https://localhost:8080/"
        },
        "id": "BfnHWGanuxCw",
        "outputId": "84fdb0cc-2d62-4e5d-aaea-38a381f59c70"
      },
      "execution_count": null,
      "outputs": [
        {
          "output_type": "stream",
          "name": "stdout",
          "text": [
            "\n"
          ]
        },
        {
          "output_type": "execute_result",
          "data": {
            "text/plain": [
              "1"
            ]
          },
          "metadata": {},
          "execution_count": 67
        }
      ]
    },
    {
      "cell_type": "code",
      "source": [
        "def calc_box(x,y,z):\n",
        "  Vol = calculate_volume(x,y,z)\n",
        "  areaS = surfaceArea(x,y,z)\n",
        "  print(\"The volume of the box is\", Vol, \"The surface of the box is \", areaS)"
      ],
      "metadata": {
        "id": "WRcOUz_Qvn9C"
      },
      "execution_count": null,
      "outputs": []
    },
    {
      "cell_type": "code",
      "source": [
        "calc_box(2,3,4)"
      ],
      "metadata": {
        "colab": {
          "base_uri": "https://localhost:8080/"
        },
        "id": "7eX_l9NWwxXX",
        "outputId": "77a306cd-3a51-424d-cb2d-1e63261d8e58"
      },
      "execution_count": null,
      "outputs": [
        {
          "output_type": "stream",
          "name": "stdout",
          "text": [
            "\n",
            "\n",
            "The volume of the box is 1 The surface of the box is  1\n"
          ]
        }
      ]
    },
    {
      "cell_type": "markdown",
      "source": [
        "## You Try\n",
        "# Main\n",
        "\n",
        "\n",
        "1.   Display welcome message\n",
        "2.   Call GetUserInput function\n",
        "3.   Call CalCosts function to calculate the costs\n",
        "4.   Call DisplayCosts Function\n",
        "\n",
        "\n",
        "# end\n",
        "\n",
        "\n",
        "# Function GetUserInput\n",
        "Prompt the user for price of item\n",
        "\n",
        "1.   Prompt the user for the price of item\n",
        "2.   Get the user response\n",
        "3.   Validate the cost > 0\n",
        "4.   Prompt user for number of items\n",
        "5.   Get user response\n",
        "6.   Return (itemPrice, numItems)\n",
        "\n",
        "\n",
        "# Function CalCosts (itemPrice, numItems)\n",
        "1.  Initialize variables (taxRate = 0.8)\n",
        "2.  Calculate the cost of items (number of items * itemPrice)\n",
        "3.  Calculate the sales tax (cost of items * taxRate)\n",
        "4.  Calculate the final cost of purchase (sum of total cost and sales tax)\n",
        "5.  Return (totalCost, finalCost)\n",
        "\n",
        "# Function DisplayCost(totalCost, finalCost)\n",
        "1.  Display cost and tax\n",
        "2.  Display final cost\n"
      ],
      "metadata": {
        "id": "e7M0EJx4H7XM"
      }
    },
    {
      "cell_type": "code",
      "source": [
        "# Function to get user input for cost and number of items\n",
        "def GetUserInput():\n",
        "  price = 0\n",
        "  while price <=0:\n",
        "      price = float(input(\"What is the price of the item you are purchasing? \\t\"))\n",
        "      if price > 0:\n",
        "        numItems = int(input(\"How many items are you buying?  \\t\"))\n",
        "      else: print(\"Price must be greater than 0.\")\n",
        "  return (price, numItems)\n",
        " \n",
        "(price, numItems) = GetUserInput()\n",
        "print(\"price = \",price,\" numitems = \",numItems)\n"
      ],
      "metadata": {
        "colab": {
          "base_uri": "https://localhost:8080/"
        },
        "id": "5iovl4VLKdNy",
        "outputId": "4a4b1e5f-2d3f-4f5d-fb3a-c133ecd3927a"
      },
      "execution_count": null,
      "outputs": [
        {
          "output_type": "stream",
          "name": "stdout",
          "text": [
            "What is the price of the item you are purchasing? \t5\n",
            "How many items are you buying?  \t5\n",
            "price =  5.0  numitems =  5\n"
          ]
        }
      ]
    },
    {
      "cell_type": "code",
      "source": [
        "#Write a function to calculate cost\n",
        "def CalCost(price, numItems):\n",
        "  taxrate = 0.08\n",
        "  # calculate the total cost numitems * cost of item\n",
        "  # Calculate the tax total * taxrate\n",
        "  # Calculate cost of items + tax\n",
        "  # Return (total cost, final cost)"
      ],
      "metadata": {
        "id": "Nc-Bjy4GOGvB"
      },
      "execution_count": null,
      "outputs": []
    },
    {
      "cell_type": "code",
      "source": [
        "# Write a function to display cost\n",
        "def DisplayCost(totalCost, finalCost):\n",
        "  # print the total cost\n",
        "  #print the final cost"
      ],
      "metadata": {
        "id": "H2BQHfB7O0KR"
      },
      "execution_count": null,
      "outputs": []
    },
    {
      "cell_type": "code",
      "source": [
        "def main():\n",
        "  print(\"Welcome to My Fabulous Store!\")\n",
        "  GetUserInput()\n",
        "  CalCost(price, numItems)\n",
        "  DisplayCost(totalCost, finalCost)\n",
        "End"
      ],
      "metadata": {
        "id": "boR01F67PHcY"
      },
      "execution_count": null,
      "outputs": []
    },
    {
      "cell_type": "markdown",
      "source": [
        "# While statements\n"
      ],
      "metadata": {
        "id": "FNOseqSuxc0y"
      }
    },
    {
      "cell_type": "code",
      "source": [
        "x = 0\n",
        "while x < 10:\n",
        "  x = x + 1\n",
        "  print(x)\n"
      ],
      "metadata": {
        "colab": {
          "base_uri": "https://localhost:8080/"
        },
        "id": "hq8HCFISxge5",
        "outputId": "2fba54fb-7e71-4c51-9acc-abab4a88d516"
      },
      "execution_count": null,
      "outputs": [
        {
          "output_type": "stream",
          "name": "stdout",
          "text": [
            "1\n",
            "2\n",
            "3\n",
            "4\n",
            "5\n",
            "6\n",
            "7\n",
            "8\n",
            "9\n",
            "10\n"
          ]
        }
      ]
    },
    {
      "cell_type": "code",
      "source": [
        "x = 0\n",
        "while x < 10:\n",
        "  print(x)\n",
        "  x = x + 1\n",
        "  \n"
      ],
      "metadata": {
        "colab": {
          "base_uri": "https://localhost:8080/"
        },
        "id": "4sSQIOqnx2X4",
        "outputId": "ec52c6ce-6081-4be0-c280-dc9b791df834"
      },
      "execution_count": null,
      "outputs": [
        {
          "output_type": "stream",
          "name": "stdout",
          "text": [
            "0\n",
            "1\n",
            "2\n",
            "3\n",
            "4\n",
            "5\n",
            "6\n",
            "7\n",
            "8\n",
            "9\n"
          ]
        }
      ]
    },
    {
      "cell_type": "code",
      "source": [
        "# Run the code.  What happens?  Change n and the argument inside of the while statement so that only odd numbers print\n",
        "n = 10\n",
        "while n > 1:\n",
        "    print(n)\n",
        "    n = n - 2"
      ],
      "metadata": {
        "colab": {
          "base_uri": "https://localhost:8080/"
        },
        "id": "W7Ijwbw1WWyw",
        "outputId": "473acff1-39f1-4259-84dc-c511ab418fa8"
      },
      "execution_count": null,
      "outputs": [
        {
          "output_type": "stream",
          "name": "stdout",
          "text": [
            "10\n",
            "8\n",
            "6\n",
            "4\n",
            "2\n"
          ]
        }
      ]
    },
    {
      "cell_type": "code",
      "source": [
        "# write a while statement that prints out 2, 5, 8"
      ],
      "metadata": {
        "id": "rHUO4_92XVrB"
      },
      "execution_count": null,
      "outputs": []
    },
    {
      "cell_type": "code",
      "source": [
        "i = 1\n",
        "while i < 6:\n",
        "  print(i)\n",
        "  i += 1    # += means and 1 to i"
      ],
      "metadata": {
        "colab": {
          "base_uri": "https://localhost:8080/"
        },
        "id": "Ryd7X4zoyIcX",
        "outputId": "04abaa5a-e327-49a5-cf27-2fc4a6299c36"
      },
      "execution_count": null,
      "outputs": [
        {
          "output_type": "stream",
          "name": "stdout",
          "text": [
            "1\n",
            "2\n",
            "3\n",
            "4\n",
            "5\n"
          ]
        }
      ]
    },
    {
      "cell_type": "code",
      "source": [
        "i = 1\n",
        "while i < 6:\n",
        "  print(i)\n",
        "  if i == 3:\n",
        "    break\n",
        "  i += 1"
      ],
      "metadata": {
        "colab": {
          "base_uri": "https://localhost:8080/"
        },
        "id": "wLwn4EdLyjKj",
        "outputId": "b530dd34-ad2f-407a-e417-7654da0499ad"
      },
      "execution_count": null,
      "outputs": [
        {
          "output_type": "stream",
          "name": "stdout",
          "text": [
            "1\n",
            "2\n",
            "3\n"
          ]
        }
      ]
    },
    {
      "cell_type": "code",
      "source": [
        "i = 1\n",
        "while i < 6:\n",
        "  print(i)\n",
        "  i += 1\n",
        "else:\n",
        "  print(\"i is no longer less than 6\")\n",
        "    \n",
        " \n",
        " "
      ],
      "metadata": {
        "colab": {
          "base_uri": "https://localhost:8080/"
        },
        "id": "_eOQpRarywbq",
        "outputId": "6bd2268c-e07f-4c45-d413-e2584fae8bcf"
      },
      "execution_count": null,
      "outputs": [
        {
          "output_type": "stream",
          "name": "stdout",
          "text": [
            "1\n",
            "2\n",
            "3\n",
            "4\n",
            "5\n",
            "i is no longer less than 6\n"
          ]
        }
      ]
    },
    {
      "cell_type": "code",
      "source": [
        "n = 5\n",
        "while n > 0:\n",
        "    n -= 1\n",
        "    if n == 2:\n",
        "        break\n",
        "    else:\n",
        "      print(\"Next Number = \", n)"
      ],
      "metadata": {
        "colab": {
          "base_uri": "https://localhost:8080/"
        },
        "id": "JIEsN1sHQam-",
        "outputId": "9b3d6077-eadd-4b1a-9bd6-8bb31d43fa26"
      },
      "execution_count": null,
      "outputs": [
        {
          "output_type": "stream",
          "name": "stdout",
          "text": [
            "Next Number =  4\n",
            "Next Number =  3\n"
          ]
        }
      ]
    },
    {
      "cell_type": "code",
      "source": [
        "#Sentinal Value\n",
        "score = int(input(\"enter a test score, use -1 to stop \"))   #enter the first value\n",
        "total = 0\n",
        "scoreCounter = 0                       \n",
        " \n",
        "while score != -1:                      #loop until the sentinel value (-1) is entered\n",
        "        total = total + score\n",
        "        scoreCounter = scoreCounter + 1\n",
        "        score = int(input(\"enter a test score, use -1 to stop \"))\n",
        " \n",
        "print (\"The average for the test is \",total/scoreCounter)"
      ],
      "metadata": {
        "colab": {
          "base_uri": "https://localhost:8080/"
        },
        "id": "UMhWQMvk6Ufk",
        "outputId": "56d50974-a938-4c87-8360-f2f5f68708b7"
      },
      "execution_count": 4,
      "outputs": [
        {
          "output_type": "stream",
          "name": "stdout",
          "text": [
            "enter a test score, use -1 to stop 60\n",
            "enter a test score, use -1 to stop 80\n",
            "enter a test score, use -1 to stop 90\n",
            "enter a test score, use -1 to stop 100\n",
            "enter a test score, use -1 to stop -1\n",
            "The average for the test is  82.5\n"
          ]
        }
      ]
    },
    {
      "cell_type": "code",
      "source": [
        "# checks if list still\n",
        "# contains any element\n",
        "a = [1, 2, 3, 4]\n",
        "  \n",
        "while a:\n",
        "    print(a.pop())\n",
        "\n",
        "\n",
        "\n",
        "print(\"\\n a is now\",a)  #What was the result of a.pop()\n",
        "\n"
      ],
      "metadata": {
        "colab": {
          "base_uri": "https://localhost:8080/"
        },
        "id": "TicU3j0Z13Xx",
        "outputId": "5a2ba164-06b5-4103-b1ca-8ca5b05e850c"
      },
      "execution_count": null,
      "outputs": [
        {
          "output_type": "stream",
          "name": "stdout",
          "text": [
            "4\n",
            "3\n",
            "2\n",
            "1\n",
            "\n",
            " a is now []\n"
          ]
        }
      ]
    },
    {
      "cell_type": "code",
      "source": [
        "a = []\n",
        "i = 0\n",
        "\n",
        "while i < 6:\n",
        "  a.append(i)\n",
        "  i +=1\n",
        "\n",
        "print(a)"
      ],
      "metadata": {
        "colab": {
          "base_uri": "https://localhost:8080/"
        },
        "id": "K0e0PCJi_deO",
        "outputId": "c62c91e1-70eb-4eea-8759-c55db52ee5c4"
      },
      "execution_count": null,
      "outputs": [
        {
          "output_type": "stream",
          "name": "stdout",
          "text": [
            "[0, 1, 2, 3, 4, 5]\n"
          ]
        }
      ]
    },
    {
      "cell_type": "code",
      "source": [
        "# Python program to illustrate \n",
        "# Single statement while block \n",
        "count = 0\n",
        "while (count < 5): count += 1; print(\"Hello There!\")"
      ],
      "metadata": {
        "colab": {
          "base_uri": "https://localhost:8080/"
        },
        "id": "C3pG4S2i2INm",
        "outputId": "4fbfd956-c645-42c9-b037-de421894dd7e"
      },
      "execution_count": null,
      "outputs": [
        {
          "output_type": "stream",
          "name": "stdout",
          "text": [
            "Hello There!\n",
            "Hello There!\n",
            "Hello There!\n",
            "Hello There!\n",
            "Hello There!\n"
          ]
        }
      ]
    },
    {
      "cell_type": "code",
      "source": [
        "# Prints all letters \n",
        "i = 0\n",
        "a = 'I love to code!'\n",
        "  \n",
        "while i < len(a):      \n",
        "    print('Current Letter :', a[i])\n",
        "    i += 1\n",
        "\n",
        "   "
      ],
      "metadata": {
        "colab": {
          "base_uri": "https://localhost:8080/",
          "height": 296
        },
        "id": "zMS-7Xzk2Jrc",
        "outputId": "78f18bb4-4116-48fd-e5e4-f6cc5e718c80"
      },
      "execution_count": null,
      "outputs": [
        {
          "output_type": "stream",
          "name": "stdout",
          "text": [
            "Current Letter : I\n",
            "Current Letter :  \n",
            "Current Letter : l\n",
            "Current Letter : o\n",
            "Current Letter : v\n",
            "Current Letter : e\n",
            "Current Letter :  \n",
            "Current Letter : t\n",
            "Current Letter : o\n",
            "Current Letter :  \n",
            "Current Letter : c\n",
            "Current Letter : o\n",
            "Current Letter : d\n",
            "Current Letter : e\n",
            "Current Letter : !\n"
          ]
        },
        {
          "output_type": "execute_result",
          "data": {
            "text/plain": [
              "'o'"
            ],
            "application/vnd.google.colaboratory.intrinsic+json": {
              "type": "string"
            }
          },
          "metadata": {},
          "execution_count": 149
        }
      ]
    },
    {
      "cell_type": "code",
      "source": [
        "n = random.randint(0,len(a)-1)\n",
        "\n",
        "print(a[n])\n",
        "print(\"When n = \", n)\n",
        "answer = input(\"what letter is a[n]\")\n",
        "if answer == a[n]:\n",
        "  print('Good Job')\n",
        "else:\n",
        "  print(\"Try Again\")\n"
      ],
      "metadata": {
        "colab": {
          "base_uri": "https://localhost:8080/"
        },
        "id": "ptfWKohtRsfL",
        "outputId": "beec48b9-ccbc-4ea0-d601-6f9adf1714d6"
      },
      "execution_count": null,
      "outputs": [
        {
          "output_type": "stream",
          "name": "stdout",
          "text": [
            "o\n",
            "When n =  11\n",
            "what letter is a[n]o\n",
            "Good Job\n"
          ]
        }
      ]
    },
    {
      "cell_type": "code",
      "source": [
        "# Prints all letters except 'e' and 's'\n",
        "i = 0\n",
        "a = 'Love Coding'\n",
        "  \n",
        "while i < len(a):\n",
        "    if a[i] == 'e' or a[i] == 'g':\n",
        "        i += 1\n",
        "        continue\n",
        "          \n",
        "    print('Current Letter :', a[i])\n",
        "    i += 1"
      ],
      "metadata": {
        "colab": {
          "base_uri": "https://localhost:8080/"
        },
        "id": "gMXuXSR02vbu",
        "outputId": "1b1d630a-bc04-466b-9f2e-08155e0f5ec2"
      },
      "execution_count": null,
      "outputs": [
        {
          "output_type": "stream",
          "name": "stdout",
          "text": [
            "Current Letter : L\n",
            "Current Letter : o\n",
            "Current Letter : v\n",
            "Current Letter :  \n",
            "Current Letter : C\n",
            "Current Letter : o\n",
            "Current Letter : d\n",
            "Current Letter : i\n",
            "Current Letter : n\n"
          ]
        }
      ]
    },
    {
      "cell_type": "code",
      "source": [
        "# break the loop as soon it sees 'e'\n",
        "# or 's'\n",
        "i = 0\n",
        "a = 'LoveCodinginPython'\n",
        "  \n",
        "while i < len(a):\n",
        "    if a[i] == 'C' or a[i] == 'P':\n",
        "        i += 1\n",
        "        break\n",
        "          \n",
        "    print('Current Letter :', a[i])\n",
        "    i += 1"
      ],
      "metadata": {
        "colab": {
          "base_uri": "https://localhost:8080/"
        },
        "id": "DcfEYbna276p",
        "outputId": "efb48234-dec1-44c8-823b-47b4dfcb324a"
      },
      "execution_count": null,
      "outputs": [
        {
          "output_type": "stream",
          "name": "stdout",
          "text": [
            "Current Letter : L\n",
            "Current Letter : o\n",
            "Current Letter : v\n",
            "Current Letter : e\n"
          ]
        }
      ]
    },
    {
      "cell_type": "code",
      "source": [
        "# Python program to demonstrate\n",
        "# while-else loop\n",
        "  \n",
        "i = 0\n",
        "while i < 4:\n",
        "    i += 1\n",
        "    print(i)\n",
        "else:  # Executed because no break in for\n",
        "    print(\"No Break\\n\")\n",
        "  \n",
        "i = 0\n",
        "while i < 4:\n",
        "    i += 1\n",
        "    print(i)\n",
        "    break\n",
        "else:  # Not executed as there is a break\n",
        "    print(\"No Break\")"
      ],
      "metadata": {
        "colab": {
          "base_uri": "https://localhost:8080/"
        },
        "id": "5arkRgPT3Zww",
        "outputId": "f5996886-f5bf-43cb-9def-6bd908e339d9"
      },
      "execution_count": null,
      "outputs": [
        {
          "output_type": "stream",
          "name": "stdout",
          "text": [
            "1\n",
            "2\n",
            "3\n",
            "4\n",
            "No Break\n",
            "\n",
            "1\n"
          ]
        }
      ]
    },
    {
      "cell_type": "code",
      "source": [
        "a = int(input('Enter a number (-1 to quit): '))\n",
        "  \n",
        "while a != -1:\n",
        "    a = int(input('Enter a number (-1 to quit): '))"
      ],
      "metadata": {
        "colab": {
          "base_uri": "https://localhost:8080/"
        },
        "id": "JTRjTtVy30Y4",
        "outputId": "d64381b3-52ba-4a0a-8c93-48acc54c93a8"
      },
      "execution_count": null,
      "outputs": [
        {
          "name": "stdout",
          "output_type": "stream",
          "text": [
            "Enter a number (-1 to quit): -1\n"
          ]
        }
      ]
    },
    {
      "cell_type": "code",
      "source": [
        "def run_inputnumber(x):\n",
        "  \n",
        "  while x != -1:\n",
        "    x = int(input('Enter a number (-1 to quit): '))"
      ],
      "metadata": {
        "id": "xhh1-IfB37-A"
      },
      "execution_count": 6,
      "outputs": []
    },
    {
      "cell_type": "code",
      "source": [
        "run_inputnumber(5)"
      ],
      "metadata": {
        "colab": {
          "base_uri": "https://localhost:8080/"
        },
        "id": "aIA63tnW7OdX",
        "outputId": "b0571943-a6d4-48d5-eda0-3110acab798b"
      },
      "execution_count": 7,
      "outputs": [
        {
          "name": "stdout",
          "output_type": "stream",
          "text": [
            "Enter a number (-1 to quit): 5\n",
            "Enter a number (-1 to quit): 0\n",
            "Enter a number (-1 to quit): -1\n"
          ]
        }
      ]
    }
  ]
}