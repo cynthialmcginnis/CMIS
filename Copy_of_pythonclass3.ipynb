{
  "nbformat": 4,
  "nbformat_minor": 0,
  "metadata": {
    "colab": {
      "provenance": [],
      "authorship_tag": "ABX9TyP19NFQsoof0iP8cUETZtAb",
      "include_colab_link": true
    },
    "kernelspec": {
      "name": "python3",
      "display_name": "Python 3"
    },
    "language_info": {
      "name": "python"
    }
  },
  "cells": [
    {
      "cell_type": "markdown",
      "metadata": {
        "id": "view-in-github",
        "colab_type": "text"
      },
      "source": [
        "<a href=\"https://colab.research.google.com/github/cynthialmcginnis/CMIS/blob/main/Copy_of_pythonclass3.ipynb\" target=\"_parent\"><img src=\"https://colab.research.google.com/assets/colab-badge.svg\" alt=\"Open In Colab\"/></a>"
      ]
    },
    {
      "cell_type": "markdown",
      "source": [
        "## Review\n",
        "\n",
        "* if\n",
        "* while\n",
        "* Functions"
      ],
      "metadata": {
        "id": "gi_QgXS-obsK"
      }
    },
    {
      "cell_type": "code",
      "source": [
        "#Write a Python program to fine those numbers which are divisible by 7 and multiple of 5, between 1500 and 1700 (both included) and print the numbers.\n",
        "#You will need a for loop in range(1500,1700), an if statement and the operation % modulo 10%5 = 0 because 10/5 = 2 with a remainder of 0.  11%5 = 1 11/5 = 2 with a remder of 1\n"
      ],
      "metadata": {
        "colab": {
          "base_uri": "https://localhost:8080/"
        },
        "id": "7oHpdrxcorKO",
        "outputId": "3649348b-c674-43ff-bed3-28e6cb9f9877"
      },
      "execution_count": null,
      "outputs": [
        {
          "output_type": "execute_result",
          "data": {
            "text/plain": [
              "0"
            ]
          },
          "metadata": {},
          "execution_count": 3
        }
      ]
    },
    {
      "cell_type": "code",
      "source": [
        "\n",
        "#Create a function using the previous problem that takes input variables for the range of values where you want to find numbers both divisible by 7 and 5\n"
      ],
      "metadata": {
        "id": "hNPkon0Es85L"
      },
      "execution_count": null,
      "outputs": []
    },
    {
      "cell_type": "code",
      "source": [
        "#Create a function using the previous problem that takes input variables for the range of values and two numbers you want to check for divisiblity"
      ],
      "metadata": {
        "id": "ggeqOnvnxeCk"
      },
      "execution_count": null,
      "outputs": []
    },
    {
      "cell_type": "code",
      "source": [
        "#Create a while loop that runs until it find the first number divisible by both 7 and 5"
      ],
      "metadata": {
        "id": "jnpiIHilubGD"
      },
      "execution_count": null,
      "outputs": []
    },
    {
      "cell_type": "code",
      "source": [
        "#Write a while statement that runs until a certain condition is met.  Check the condition with an \"if\", stop the while loop with break\n"
      ],
      "metadata": {
        "id": "i0ylb6dJAGbQ"
      },
      "execution_count": null,
      "outputs": []
    },
    {
      "cell_type": "code",
      "source": [
        "#Example\n",
        "while True:\n",
        "    line = input('> ')\n",
        "    if line == 'done':\n",
        "      break\n",
        "      print(line)\n",
        "print('Done!')"
      ],
      "metadata": {
        "colab": {
          "base_uri": "https://localhost:8080/"
        },
        "id": "RjHFor0rubJG",
        "outputId": "9094f93c-d3f0-489c-c180-bc9bd1ed6545"
      },
      "execution_count": null,
      "outputs": [
        {
          "output_type": "stream",
          "name": "stdout",
          "text": [
            "> The monkeys are in the monkey house.  \n",
            "> done\n",
            "Done!\n"
          ]
        }
      ]
    },
    {
      "cell_type": "code",
      "source": [
        "#explain what happens in the while loop\n",
        "x = 1;\n",
        "s = 0\n",
        "while (x < 10):\n",
        "     s = s + x\n",
        "     x = x + 1\n",
        "     if (x == 5):\n",
        "          break\n",
        "else :\n",
        "     print('The sum of first 9 integers : ',s)        \n",
        "print('The sum of ',x,' numbers is :',s) "
      ],
      "metadata": {
        "colab": {
          "base_uri": "https://localhost:8080/"
        },
        "id": "qGuewKr5ubQY",
        "outputId": "dd4d1af1-4fb6-4a87-fb21-8410bfdd5fa7"
      },
      "execution_count": null,
      "outputs": [
        {
          "output_type": "stream",
          "name": "stdout",
          "text": [
            "The sum of  5  numbers is : 10\n"
          ]
        }
      ]
    },
    {
      "cell_type": "code",
      "source": [
        "input(\"What is the purpose of import math in a python script?\")"
      ],
      "metadata": {
        "colab": {
          "base_uri": "https://localhost:8080/",
          "height": 53
        },
        "id": "KjGXL1vd-XQp",
        "outputId": "07211bbe-0ac5-48f2-f043-bd085b410aac"
      },
      "execution_count": 16,
      "outputs": [
        {
          "name": "stdout",
          "output_type": "stream",
          "text": [
            "What is the purpose of import math in a python script?imports math funcitons\n"
          ]
        },
        {
          "output_type": "execute_result",
          "data": {
            "text/plain": [
              "'imports math funcitons'"
            ],
            "application/vnd.google.colaboratory.intrinsic+json": {
              "type": "string"
            }
          },
          "metadata": {},
          "execution_count": 16
        }
      ]
    },
    {
      "cell_type": "code",
      "source": [
        "def my_add(x,y,s):\n",
        "  while (x < y):\n",
        "     s = s + x\n",
        "     x = x + 1\n",
        "     if (x == y):\n",
        "          break\n",
        "  else :\n",
        "     print('The sum of first 9 integers : ',s)        \n",
        "  print('The sum of ',x,' numbers is :',s) \n"
      ],
      "metadata": {
        "id": "kwJTHJ0TubWp"
      },
      "execution_count": null,
      "outputs": []
    },
    {
      "cell_type": "code",
      "source": [
        "my_add(1,20,0)"
      ],
      "metadata": {
        "colab": {
          "base_uri": "https://localhost:8080/"
        },
        "id": "gv-ld5JpubZg",
        "outputId": "5b450f87-e0cd-4ea6-ecc2-78f5da8b7d43"
      },
      "execution_count": null,
      "outputs": [
        {
          "output_type": "stream",
          "name": "stdout",
          "text": [
            "The sum of  20  numbers is : 190\n"
          ]
        }
      ]
    },
    {
      "cell_type": "code",
      "source": [
        "#Turn your while statement into a function with variable input"
      ],
      "metadata": {
        "id": "hqWHafHFubgA"
      },
      "execution_count": null,
      "outputs": []
    },
    {
      "cell_type": "code",
      "source": [
        "#for loops with lists\n",
        "color_list = [\"Red\", \"Blue\", \"Green\", \"Black\"]\n",
        "for c in color_list:\n",
        "    print(c)"
      ],
      "metadata": {
        "colab": {
          "base_uri": "https://localhost:8080/"
        },
        "id": "3rDs02qgubi4",
        "outputId": "fc445a06-f3ce-4994-da71-74a8276eaf4e"
      },
      "execution_count": 19,
      "outputs": [
        {
          "output_type": "stream",
          "name": "stdout",
          "text": [
            "Red\n",
            "Blue\n",
            "Green\n",
            "Black\n"
          ]
        }
      ]
    },
    {
      "cell_type": "code",
      "source": [
        "for i in range(5):\n",
        "  print(i)"
      ],
      "metadata": {
        "colab": {
          "base_uri": "https://localhost:8080/"
        },
        "id": "BSSHVklIubl_",
        "outputId": "7e6a21dd-32ab-4ceb-efdf-99f7240473c8"
      },
      "execution_count": null,
      "outputs": [
        {
          "output_type": "stream",
          "name": "stdout",
          "text": [
            "0\n",
            "1\n",
            "2\n",
            "3\n",
            "4\n"
          ]
        }
      ]
    },
    {
      "cell_type": "code",
      "source": [
        "#indexing a list element\n",
        "for i in range(3):\n",
        "  print(color_list[i])"
      ],
      "metadata": {
        "colab": {
          "base_uri": "https://localhost:8080/"
        },
        "id": "4I6xucVDAjD_",
        "outputId": "19134f5a-2220-4193-a0b1-f3955d8ea9da"
      },
      "execution_count": 20,
      "outputs": [
        {
          "output_type": "stream",
          "name": "stdout",
          "text": [
            "Red\n",
            "Blue\n",
            "Green\n"
          ]
        }
      ]
    },
    {
      "cell_type": "code",
      "source": [
        "#Start with the number 3, end at 20 and count by 5's\n",
        "for a in range(3,20,5):\n",
        "  print(a)"
      ],
      "metadata": {
        "colab": {
          "base_uri": "https://localhost:8080/"
        },
        "id": "ZYtLvRa-ubpH",
        "outputId": "6171c476-fd54-492a-a90a-4c8c584fc28e"
      },
      "execution_count": null,
      "outputs": [
        {
          "output_type": "stream",
          "name": "stdout",
          "text": [
            "3\n",
            "8\n",
            "13\n",
            "18\n"
          ]
        }
      ]
    },
    {
      "cell_type": "code",
      "source": [
        "#Write a for loop that multiplies two numbers, then print the calculation\n"
      ],
      "metadata": {
        "id": "F4l6DW9jubr_"
      },
      "execution_count": null,
      "outputs": []
    },
    {
      "cell_type": "code",
      "source": [
        "count = 0\n",
        "for i in [3, 41, 12, 9, 74, 15]:\n",
        "    count = count + 1\n",
        "print(\"Count:\", count)"
      ],
      "metadata": {
        "colab": {
          "base_uri": "https://localhost:8080/"
        },
        "id": "eEiyWOY3ubvZ",
        "outputId": "cb7e3d40-a55a-4040-ae9b-3865d4d9d027"
      },
      "execution_count": null,
      "outputs": [
        {
          "output_type": "stream",
          "name": "stdout",
          "text": [
            "Count: 6\n"
          ]
        }
      ]
    },
    {
      "cell_type": "code",
      "source": [
        "#Run the code and describe what is happening\n",
        "count = 0\n",
        "for i in [3, 41, 12, 9, 74, 15]:\n",
        "    \n",
        "    print(\"Element\", count, \"Value\", [i])\n",
        "    count = count + 1\n",
        "    \n",
        "print(\"Count:\", count)"
      ],
      "metadata": {
        "colab": {
          "base_uri": "https://localhost:8080/"
        },
        "id": "rCKvH4K3BXih",
        "outputId": "1596c12f-f074-49bb-f14c-9b62a6fe45d4"
      },
      "execution_count": 22,
      "outputs": [
        {
          "output_type": "stream",
          "name": "stdout",
          "text": [
            "Element 0 Value [3]\n",
            "Element 1 Value [41]\n",
            "Element 2 Value [12]\n",
            "Element 3 Value [9]\n",
            "Element 4 Value [74]\n",
            "Element 5 Value [15]\n",
            "Count: 6\n"
          ]
        }
      ]
    },
    {
      "cell_type": "code",
      "source": [
        "# Tuples are ordered lists that are unchangeable\n",
        "numbers = (1, 2, 3, 4, 5, 6, 7, 8, 9) # Declaring the tuple.                 \n",
        "count_odd = 0\n",
        "count_even = 0\n",
        "for x in numbers:\n",
        "        if x % 2:\n",
        "    \t     count_odd+=1\n",
        "        else:\n",
        "    \t     count_even+=1\n",
        "print(\"Number of even numbers :\",count_even)\n",
        "print(\"Number of odd numbers :\",count_odd)\n"
      ],
      "metadata": {
        "colab": {
          "base_uri": "https://localhost:8080/"
        },
        "id": "XoAUeCOjubyf",
        "outputId": "75e2e12a-348f-414c-c142-700a481fd854"
      },
      "execution_count": 23,
      "outputs": [
        {
          "output_type": "stream",
          "name": "stdout",
          "text": [
            "Number of even numbers : 4\n",
            "Number of odd numbers : 5\n"
          ]
        }
      ]
    },
    {
      "cell_type": "markdown",
      "source": [
        "#Python Collections (Arrays)\n",
        "#There are four collection data types in the Python programming language:\n",
        "\n",
        "* List is a collection which is ordered and changeable. Allows duplicate members.\n",
        "* Tuple is a collection which is ordered and unchangeable. Allows duplicate members.\n",
        "* Set is a collection which is unordered, unchangeable, and unindexed. No duplicate members.\n",
        "* Dictionary is a collection which is ordered and changeable. No duplicate members."
      ],
      "metadata": {
        "id": "q1kUUB2F5ORg"
      }
    },
    {
      "cell_type": "code",
      "source": [
        "# Review Strings\n",
        "my_string = \"Coding is Fun!\"\n",
        "\n"
      ],
      "metadata": {
        "id": "hSlj1MK0ETFP"
      },
      "execution_count": null,
      "outputs": []
    },
    {
      "cell_type": "code",
      "source": [
        "#Length of a string\n",
        "len(my_string)"
      ],
      "metadata": {
        "colab": {
          "base_uri": "https://localhost:8080/"
        },
        "id": "SV0zqoeHK3e1",
        "outputId": "d56e4826-23a5-49df-a8c2-6a16c6aca375"
      },
      "execution_count": null,
      "outputs": [
        {
          "output_type": "execute_result",
          "data": {
            "text/plain": [
              "14"
            ]
          },
          "metadata": {},
          "execution_count": 140
        }
      ]
    },
    {
      "cell_type": "code",
      "source": [
        "#Indexing a string\n",
        "my_string[1]"
      ],
      "metadata": {
        "colab": {
          "base_uri": "https://localhost:8080/",
          "height": 35
        },
        "id": "c-7WwtxfK-X_",
        "outputId": "e38ce012-1523-4522-95b3-732680603dde"
      },
      "execution_count": null,
      "outputs": [
        {
          "output_type": "execute_result",
          "data": {
            "text/plain": [
              "'o'"
            ],
            "application/vnd.google.colaboratory.intrinsic+json": {
              "type": "string"
            }
          },
          "metadata": {},
          "execution_count": 141
        }
      ]
    },
    {
      "cell_type": "code",
      "source": [
        "#Indexing with negative numbers\n",
        "my_string[-1] #the last element in the string"
      ],
      "metadata": {
        "colab": {
          "base_uri": "https://localhost:8080/",
          "height": 35
        },
        "id": "R5gEEN43ON0-",
        "outputId": "fe2fa6fe-d532-44c4-8130-a99c43b58978"
      },
      "execution_count": null,
      "outputs": [
        {
          "output_type": "execute_result",
          "data": {
            "text/plain": [
              "'!'"
            ],
            "application/vnd.google.colaboratory.intrinsic+json": {
              "type": "string"
            }
          },
          "metadata": {},
          "execution_count": 157
        }
      ]
    },
    {
      "cell_type": "code",
      "source": [
        "#adding string elements\n",
        "my_string[1]+my_string[3]"
      ],
      "metadata": {
        "colab": {
          "base_uri": "https://localhost:8080/",
          "height": 35
        },
        "id": "A7-bBKhwEfL9",
        "outputId": "cc8734b6-691d-4d8c-cad4-3f3bd00804c0"
      },
      "execution_count": null,
      "outputs": [
        {
          "output_type": "execute_result",
          "data": {
            "text/plain": [
              "'oi'"
            ],
            "application/vnd.google.colaboratory.intrinsic+json": {
              "type": "string"
            }
          },
          "metadata": {},
          "execution_count": 111
        }
      ]
    },
    {
      "cell_type": "code",
      "source": [
        "#slicing string elements \n",
        "my_string[1:4]"
      ],
      "metadata": {
        "colab": {
          "base_uri": "https://localhost:8080/",
          "height": 35
        },
        "id": "Bjcc4zTlEoDa",
        "outputId": "cf1342da-17ed-4b18-f08a-6836c04d1956"
      },
      "execution_count": null,
      "outputs": [
        {
          "output_type": "execute_result",
          "data": {
            "text/plain": [
              "'odi'"
            ],
            "application/vnd.google.colaboratory.intrinsic+json": {
              "type": "string"
            }
          },
          "metadata": {},
          "execution_count": 112
        }
      ]
    },
    {
      "cell_type": "code",
      "source": [
        "# write code to return the 6th element in the string, my_string"
      ],
      "metadata": {
        "id": "IVGDofi0E2FU"
      },
      "execution_count": null,
      "outputs": []
    },
    {
      "cell_type": "code",
      "source": [
        "# write code to return the 4 through 7th element in the string, my_string"
      ],
      "metadata": {
        "id": "WJSWJ7-AE8dI"
      },
      "execution_count": null,
      "outputs": []
    },
    {
      "cell_type": "code",
      "source": [
        "#write a for loop to print all elements in the string, my_string\n"
      ],
      "metadata": {
        "id": "fwihmzbtFB7p"
      },
      "execution_count": null,
      "outputs": []
    },
    {
      "cell_type": "code",
      "source": [
        "#add elements to a string\n",
        "string1 = \"I \"\n",
        "string2 = \"love to \"\n",
        "string3 = \"code\"\n",
        "\n",
        "new_string = string1+string2+string3\n",
        "\n",
        "print(new_string)"
      ],
      "metadata": {
        "colab": {
          "base_uri": "https://localhost:8080/"
        },
        "id": "3UHc_pe5ITVI",
        "outputId": "1351a302-4daa-4cfc-992c-149d22cf91e0"
      },
      "execution_count": null,
      "outputs": [
        {
          "output_type": "stream",
          "name": "stdout",
          "text": [
            "I love to code\n"
          ]
        }
      ]
    },
    {
      "cell_type": "markdown",
      "source": [
        "# Tuples (\"a\",\"b\",\"c\",\"d\")\n",
        "* Tuple is a collection which is ordered and unchangeable. Allows duplicate members.\n",
        "\n"
      ],
      "metadata": {
        "id": "NcxR4tlXFfn5"
      }
    },
    {
      "cell_type": "code",
      "source": [
        "my_tuple = (\"a\",\"b\",\"c\",\"d\")\n"
      ],
      "metadata": {
        "id": "-ASwRA24Fpvj"
      },
      "execution_count": null,
      "outputs": []
    },
    {
      "cell_type": "code",
      "source": [
        "my_tuple[0]"
      ],
      "metadata": {
        "colab": {
          "base_uri": "https://localhost:8080/",
          "height": 35
        },
        "id": "JOfMpAihFt1R",
        "outputId": "8aab7789-c19c-4122-de91-652dde3c2ad1"
      },
      "execution_count": null,
      "outputs": [
        {
          "output_type": "execute_result",
          "data": {
            "text/plain": [
              "'a'"
            ],
            "application/vnd.google.colaboratory.intrinsic+json": {
              "type": "string"
            }
          },
          "metadata": {},
          "execution_count": 116
        }
      ]
    },
    {
      "cell_type": "code",
      "source": [
        "my_tuple[3]"
      ],
      "metadata": {
        "colab": {
          "base_uri": "https://localhost:8080/",
          "height": 35
        },
        "id": "dMwDUFPsFxVv",
        "outputId": "77ab3e3b-2afb-4696-daba-d19d4bc02659"
      },
      "execution_count": null,
      "outputs": [
        {
          "output_type": "execute_result",
          "data": {
            "text/plain": [
              "'d'"
            ],
            "application/vnd.google.colaboratory.intrinsic+json": {
              "type": "string"
            }
          },
          "metadata": {},
          "execution_count": 118
        }
      ]
    },
    {
      "cell_type": "code",
      "source": [
        "my_tuple[-1]"
      ],
      "metadata": {
        "colab": {
          "base_uri": "https://localhost:8080/",
          "height": 35
        },
        "id": "_bB4X4f3OW2z",
        "outputId": "9c482c76-556e-4b5a-ba5e-cc743cb13f61"
      },
      "execution_count": null,
      "outputs": [
        {
          "output_type": "execute_result",
          "data": {
            "text/plain": [
              "'d'"
            ],
            "application/vnd.google.colaboratory.intrinsic+json": {
              "type": "string"
            }
          },
          "metadata": {},
          "execution_count": 158
        }
      ]
    },
    {
      "cell_type": "code",
      "source": [
        "my_tuple[1:3]"
      ],
      "metadata": {
        "colab": {
          "base_uri": "https://localhost:8080/"
        },
        "id": "G9OEp6sbG49i",
        "outputId": "45e5ff0a-2062-403f-e1de-c091868bd4bb"
      },
      "execution_count": null,
      "outputs": [
        {
          "output_type": "execute_result",
          "data": {
            "text/plain": [
              "('b', 'c')"
            ]
          },
          "metadata": {},
          "execution_count": 120
        }
      ]
    },
    {
      "cell_type": "code",
      "source": [
        "# Create a tuple then use your tuple in a for or while loop to print the elements in the tuple\n"
      ],
      "metadata": {
        "id": "rJ0X2W2MBJJo"
      },
      "execution_count": null,
      "outputs": []
    },
    {
      "cell_type": "markdown",
      "source": [
        "# List Items\n",
        "# List items are ordered, changeable, and allow duplicate values.\n",
        "\n",
        "* List items are indexed, the first item has index [0], the second item has index [1] etc.\n",
        "\n",
        "#Ordered\n",
        "* When we say that lists are ordered, it means that the items have a defined order, and that order will not change.\n",
        "\n",
        "* If you add new items to a list, the new items will be placed at the end of the list."
      ],
      "metadata": {
        "id": "kY0ucYjK8r3W"
      }
    },
    {
      "cell_type": "code",
      "source": [
        "total = 0 \n",
        "for num in [3, 41, 12, 9, 74, 15]:    #list used [] brackets\n",
        "    total = total + num\n",
        "print(\"Total: \", total)"
      ],
      "metadata": {
        "colab": {
          "base_uri": "https://localhost:8080/"
        },
        "id": "_RtgmJrwucC8",
        "outputId": "9e3557bc-3179-4e50-f60e-e6080ab0fa9b"
      },
      "execution_count": null,
      "outputs": [
        {
          "output_type": "stream",
          "name": "stdout",
          "text": [
            "Total:  154\n"
          ]
        }
      ]
    },
    {
      "cell_type": "code",
      "source": [
        "num = [3, 41, 12, 9, 74, 15]\n",
        "len(num)"
      ],
      "metadata": {
        "colab": {
          "base_uri": "https://localhost:8080/"
        },
        "id": "PhzpO0U5ucFx",
        "outputId": "303029ba-9178-4b2d-d3ac-130b11c91d0f"
      },
      "execution_count": null,
      "outputs": [
        {
          "output_type": "execute_result",
          "data": {
            "text/plain": [
              "6"
            ]
          },
          "metadata": {},
          "execution_count": 142
        }
      ]
    },
    {
      "cell_type": "code",
      "source": [
        "num[4]"
      ],
      "metadata": {
        "colab": {
          "base_uri": "https://localhost:8080/"
        },
        "id": "YOfNBoqLLiGr",
        "outputId": "f0ba8548-2f3f-4204-b76d-0bf6b6b4698f"
      },
      "execution_count": null,
      "outputs": [
        {
          "output_type": "execute_result",
          "data": {
            "text/plain": [
              "74"
            ]
          },
          "metadata": {},
          "execution_count": 143
        }
      ]
    },
    {
      "cell_type": "code",
      "source": [
        "\n",
        "for n in range(len(num)): \n",
        "  \n",
        "  print(\"num[\",n, \"] =\", num[n])\n",
        " "
      ],
      "metadata": {
        "colab": {
          "base_uri": "https://localhost:8080/"
        },
        "id": "nilzSYEs9VEF",
        "outputId": "08aa72da-1098-46c3-a9c7-50e53d8521b7"
      },
      "execution_count": null,
      "outputs": [
        {
          "output_type": "stream",
          "name": "stdout",
          "text": [
            "num[ 0 ] = 3\n",
            "num[ 1 ] = 41\n",
            "num[ 2 ] = 12\n",
            "num[ 3 ] = 9\n",
            "num[ 4 ] = 74\n",
            "num[ 5 ] = 15\n"
          ]
        }
      ]
    },
    {
      "cell_type": "code",
      "source": [
        "for n in num:\n",
        "  print(\"num = \",n)\n"
      ],
      "metadata": {
        "colab": {
          "base_uri": "https://localhost:8080/"
        },
        "id": "YER5c200-Pa9",
        "outputId": "ae56e043-d38f-4e12-f3c0-bd234eb0c4ef"
      },
      "execution_count": null,
      "outputs": [
        {
          "output_type": "stream",
          "name": "stdout",
          "text": [
            "num =  3\n",
            "num =  41\n",
            "num =  12\n",
            "num =  9\n",
            "num =  74\n",
            "num =  15\n"
          ]
        }
      ]
    },
    {
      "cell_type": "code",
      "source": [
        "num[1]+num[2]"
      ],
      "metadata": {
        "colab": {
          "base_uri": "https://localhost:8080/"
        },
        "id": "Lbz1En9i_WNq",
        "outputId": "03088036-4a71-4d02-8017-59a210cee31c"
      },
      "execution_count": null,
      "outputs": [
        {
          "output_type": "execute_result",
          "data": {
            "text/plain": [
              "53"
            ]
          },
          "metadata": {},
          "execution_count": 94
        }
      ]
    },
    {
      "cell_type": "code",
      "source": [
        "#Create a list then print each item in the list"
      ],
      "metadata": {
        "id": "1Ps8_DsfLuQy"
      },
      "execution_count": null,
      "outputs": []
    },
    {
      "cell_type": "code",
      "source": [
        "# write a program to find the largest number in the list\n",
        "my_list = [55, 41, 12, 90, 74, 12]"
      ],
      "metadata": {
        "id": "AIzFxzdLBBUk"
      },
      "execution_count": null,
      "outputs": []
    },
    {
      "cell_type": "code",
      "source": [
        "# write a program to find the smallest number in the list\n",
        "my_list = [55, 41, 12, 90, 74, 12]"
      ],
      "metadata": {
        "id": "A1vn0PCSDcwr"
      },
      "execution_count": null,
      "outputs": []
    },
    {
      "cell_type": "code",
      "source": [
        "#add elements to a list with .append()\n",
        "\n",
        "my_list.append(2)\n",
        "my_list"
      ],
      "metadata": {
        "colab": {
          "base_uri": "https://localhost:8080/"
        },
        "id": "8h07Nix5INoC",
        "outputId": "ed0fd0c8-e9f9-4d73-bae9-0c576da5fe80"
      },
      "execution_count": null,
      "outputs": [
        {
          "output_type": "execute_result",
          "data": {
            "text/plain": [
              "[55, 41, 12, 90, 74, 12, 2]"
            ]
          },
          "metadata": {},
          "execution_count": 135
        }
      ]
    },
    {
      "cell_type": "code",
      "source": [
        "my_list.pop(3)"
      ],
      "metadata": {
        "colab": {
          "base_uri": "https://localhost:8080/"
        },
        "id": "H2FXMWxnKNEj",
        "outputId": "e6877d5b-18da-4803-cd27-60b03dfaa7d4"
      },
      "execution_count": null,
      "outputs": [
        {
          "output_type": "execute_result",
          "data": {
            "text/plain": [
              "90"
            ]
          },
          "metadata": {},
          "execution_count": 136
        }
      ]
    },
    {
      "cell_type": "code",
      "source": [
        "my_list"
      ],
      "metadata": {
        "colab": {
          "base_uri": "https://localhost:8080/"
        },
        "id": "Vdinj6HbKVQf",
        "outputId": "295efbb4-cf77-43fc-91a2-6527641b1130"
      },
      "execution_count": null,
      "outputs": [
        {
          "output_type": "execute_result",
          "data": {
            "text/plain": [
              "[55, 41, 12, 74, 12, 2]"
            ]
          },
          "metadata": {},
          "execution_count": 137
        }
      ]
    },
    {
      "cell_type": "code",
      "source": [
        "my_list.pop()"
      ],
      "metadata": {
        "colab": {
          "base_uri": "https://localhost:8080/"
        },
        "id": "3A-n-PJtKaOd",
        "outputId": "2d3809df-75b6-437e-d012-23e8b6b9f7f5"
      },
      "execution_count": null,
      "outputs": [
        {
          "output_type": "execute_result",
          "data": {
            "text/plain": [
              "2"
            ]
          },
          "metadata": {},
          "execution_count": 138
        }
      ]
    },
    {
      "cell_type": "code",
      "source": [
        "my_list"
      ],
      "metadata": {
        "colab": {
          "base_uri": "https://localhost:8080/"
        },
        "id": "_-QxCEalKef5",
        "outputId": "0693b97d-1882-47a9-bcb8-72eff7ae5707"
      },
      "execution_count": null,
      "outputs": [
        {
          "output_type": "execute_result",
          "data": {
            "text/plain": [
              "[55, 41, 12, 74, 12]"
            ]
          },
          "metadata": {},
          "execution_count": 139
        }
      ]
    },
    {
      "cell_type": "code",
      "source": [
        "#Fill up an empty list\n",
        "new_list = []\n",
        "for i in range(8):\n",
        "  new_list.append(i)\n",
        "\n",
        "print(new_list)"
      ],
      "metadata": {
        "colab": {
          "base_uri": "https://localhost:8080/"
        },
        "id": "mMOKa6hJL6od",
        "outputId": "ae42c73a-c558-4389-bcf4-3446490b21e1"
      },
      "execution_count": null,
      "outputs": [
        {
          "output_type": "stream",
          "name": "stdout",
          "text": [
            "[0, 1, 2, 3, 4, 5, 6, 7]\n"
          ]
        }
      ]
    },
    {
      "cell_type": "code",
      "source": [
        "#combine two lists\n",
        "my_list+new_list"
      ],
      "metadata": {
        "colab": {
          "base_uri": "https://localhost:8080/"
        },
        "id": "K-lg9G6GMUaM",
        "outputId": "6d98c646-55c8-4d34-b2d2-86e98bbbd799"
      },
      "execution_count": null,
      "outputs": [
        {
          "output_type": "execute_result",
          "data": {
            "text/plain": [
              "[55, 41, 12, 74, 12, 0, 1, 2, 3, 4, 5, 6, 7]"
            ]
          },
          "metadata": {},
          "execution_count": 147
        }
      ]
    },
    {
      "cell_type": "code",
      "source": [
        "#write code that prompts the user for input and fills up an empty list with 4 elements in the list\n",
        "\n"
      ],
      "metadata": {
        "id": "XmR7csTsMhxY"
      },
      "execution_count": null,
      "outputs": []
    },
    {
      "cell_type": "markdown",
      "source": [
        "# Solutions"
      ],
      "metadata": {
        "id": "onsooEb1ugua"
      }
    },
    {
      "cell_type": "code",
      "source": [
        "for i in range(1500,1700):\n",
        "  x = i%7\n",
        "  y = i%5\n",
        "  if x == y == 0:\n",
        "    print(i)"
      ],
      "metadata": {
        "colab": {
          "base_uri": "https://localhost:8080/"
        },
        "id": "Dk1oyXK0ukFA",
        "outputId": "d4e468a3-89a7-4731-86c1-786d5ac148bb"
      },
      "execution_count": null,
      "outputs": [
        {
          "output_type": "stream",
          "name": "stdout",
          "text": [
            "1505\n",
            "1540\n",
            "1575\n",
            "1610\n",
            "1645\n",
            "1680\n"
          ]
        }
      ]
    },
    {
      "cell_type": "code",
      "source": [
        "#Create a function using the previous problem input the range of values where you want to find numbers both divisible by 7 and 5\n",
        "def find_nums(a,b):\n",
        "  for i in range(a,b): \n",
        "    x = i%7\n",
        "    y = i%5\n",
        "    if x == y == 0:\n",
        "      print(i)"
      ],
      "metadata": {
        "id": "y7oJuq50ucI4"
      },
      "execution_count": null,
      "outputs": []
    },
    {
      "cell_type": "code",
      "source": [
        "find_nums(0,500)"
      ],
      "metadata": {
        "colab": {
          "base_uri": "https://localhost:8080/"
        },
        "id": "056RmlKKtxh6",
        "outputId": "ed62fa97-c938-42ec-b6c2-122846f4c839"
      },
      "execution_count": null,
      "outputs": [
        {
          "output_type": "stream",
          "name": "stdout",
          "text": [
            "0\n",
            "35\n",
            "70\n",
            "105\n",
            "140\n",
            "175\n",
            "210\n",
            "245\n",
            "280\n",
            "315\n",
            "350\n",
            "385\n",
            "420\n",
            "455\n",
            "490\n"
          ]
        }
      ]
    },
    {
      "cell_type": "code",
      "source": [
        "#find the first number divisible by 5 and 7\n",
        "div_7and5 = \"True\"\n",
        "i = 0\n",
        "while div_7and5 == \"True\":\n",
        "  i += 1\n",
        "  x = i % 7\n",
        "  y = i % 5\n",
        " \n",
        "  if x == y == 0:\n",
        "    div_7and5 = \"False\"\n",
        "    print(i)"
      ],
      "metadata": {
        "colab": {
          "base_uri": "https://localhost:8080/"
        },
        "id": "pHA_0KmuvTLU",
        "outputId": "b0c282bc-c47a-4c53-8bd6-4c26c577638f"
      },
      "execution_count": null,
      "outputs": [
        {
          "output_type": "stream",
          "name": "stdout",
          "text": [
            "35\n"
          ]
        }
      ]
    },
    {
      "cell_type": "code",
      "source": [
        "#Find the largest value in a list\n",
        "my_list = [55, 41, 12, 90, 74, 12]\n",
        "largest = -1\n",
        "\n",
        "for i in my_list:\n",
        "    if i > largest:\n",
        "        largest = i\n",
        "    print(\"Current value:\", i, \" Largest so far\", largest)\n",
        "\n",
        "print(\"Largest:\", largest)"
      ],
      "metadata": {
        "colab": {
          "base_uri": "https://localhost:8080/"
        },
        "id": "q6bF6TAcB4SO",
        "outputId": "cc5c609d-354f-48e2-cc2f-36ba80d8e131"
      },
      "execution_count": null,
      "outputs": [
        {
          "output_type": "stream",
          "name": "stdout",
          "text": [
            "Current value: 55  Largest so far 55\n",
            "Current value: 41  Largest so far 55\n",
            "Current value: 12  Largest so far 55\n",
            "Current value: 90  Largest so far 90\n",
            "Current value: 74  Largest so far 90\n",
            "Current value: 12  Largest so far 90\n",
            "Largest: 90\n"
          ]
        }
      ]
    },
    {
      "cell_type": "code",
      "source": [
        "#Find the smallest Value\n",
        "smallest = None\n",
        "print(\"Before:\", smallest)\n",
        "for itervar in [3, 41, 12, 9, 74, 15]:\n",
        "    if smallest is None or itervar < smallest:\n",
        "        smallest = itervar\n",
        "    print(\"Current value:\", itervar, \" Smallest so far\", smallest)\n",
        "print(\"Smallest:\", smallest)"
      ],
      "metadata": {
        "colab": {
          "base_uri": "https://localhost:8080/"
        },
        "id": "Zm2EeKenDKo0",
        "outputId": "3b359463-004c-4bf1-eb3e-768f5402ee26"
      },
      "execution_count": null,
      "outputs": [
        {
          "output_type": "stream",
          "name": "stdout",
          "text": [
            "Before: None\n",
            "Current value: 3  Smallest so far 3\n",
            "Current value: 41  Smallest so far 3\n",
            "Current value: 12  Smallest so far 3\n",
            "Current value: 9  Smallest so far 3\n",
            "Current value: 74  Smallest so far 3\n",
            "Current value: 15  Smallest so far 3\n",
            "Smallest: 3\n"
          ]
        }
      ]
    }
  ]
}